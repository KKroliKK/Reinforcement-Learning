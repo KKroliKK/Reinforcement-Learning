{
  "cells": [
    {
      "cell_type": "markdown",
      "metadata": {
        "id": "7xHsDwFTNXOh"
      },
      "source": [
        "## REINFORCE"
      ]
    },
    {
      "cell_type": "markdown",
      "metadata": {
        "id": "oorJK4WlNZno"
      },
      "source": [
        "Based on the [following materials](https://towardsdatascience.com/policy-gradient-methods-104c783251e0)."
      ]
    },
    {
      "cell_type": "markdown",
      "metadata": {
        "id": "UOaWKfUNN5j5"
      },
      "source": [
        "<img src=\"https://static.packt-cdn.com/products/9781789345803/graphics/assets/9170409d-15f1-453b-816a-6f601a89fcf2.png\"/>"
      ]
    },
    {
      "cell_type": "code",
      "execution_count": null,
      "metadata": {
        "id": "WHeivW5YNYXZ"
      },
      "outputs": [],
      "source": [
        "import numpy as np\n",
        "import torch\n",
        "import gym\n",
        "from matplotlib import pyplot as plt\n",
        "from tqdm.auto import tqdm"
      ]
    },
    {
      "cell_type": "code",
      "execution_count": null,
      "metadata": {
        "colab": {
          "base_uri": "https://localhost:8080/"
        },
        "id": "kbcgQA4_NfhZ",
        "outputId": "85d3aa36-2cae-4a4d-f271-26cccd64c853"
      },
      "outputs": [
        {
          "name": "stderr",
          "output_type": "stream",
          "text": [
            "/usr/local/lib/python3.8/dist-packages/gym/core.py:317: DeprecationWarning: \u001b[33mWARN: Initializing wrapper in old step API which returns one bool instead of two. It is recommended to set `new_step_api=True` to use new step API. This will be the default behaviour in future.\u001b[0m\n",
            "  deprecation(\n",
            "/usr/local/lib/python3.8/dist-packages/gym/wrappers/step_api_compatibility.py:39: DeprecationWarning: \u001b[33mWARN: Initializing environment in old step API which returns one bool instead of two. It is recommended to set `new_step_api=True` to use new step API. This will be the default behaviour in future.\u001b[0m\n",
            "  deprecation(\n"
          ]
        }
      ],
      "source": [
        "env = gym.make('CartPole-v1')"
      ]
    },
    {
      "cell_type": "code",
      "execution_count": null,
      "metadata": {
        "id": "zo1htgIhNh8F"
      },
      "outputs": [],
      "source": [
        "obs_size = env.observation_space.shape[0] \n",
        "n_actions = env.action_space.n"
      ]
    },
    {
      "cell_type": "code",
      "execution_count": null,
      "metadata": {
        "id": "BQW9yoFCNmZw"
      },
      "outputs": [],
      "source": [
        "HIDDEN_SIZE = 256\n",
        "\n",
        "# simpliest neural network\n",
        "model = torch.nn.Sequential(\n",
        "             torch.nn.Linear(obs_size, HIDDEN_SIZE),\n",
        "             torch.nn.ReLU(),\n",
        "             torch.nn.Linear(HIDDEN_SIZE, n_actions),\n",
        "             torch.nn.Softmax(dim=0)\n",
        "     )\n",
        "\n",
        "learning_rate = 0.003\n",
        "optimizer = torch.optim.Adam(model.parameters(), lr=learning_rate)"
      ]
    },
    {
      "cell_type": "code",
      "execution_count": null,
      "metadata": {
        "id": "mPAeYMTuNodU"
      },
      "outputs": [],
      "source": [
        "# hyperparameters\n",
        "Horizon = 500\n",
        "MAX_TRAJECTORIES = 1000\n",
        "gamma = 0.7\n",
        "score = []"
      ]
    },
    {
      "cell_type": "code",
      "execution_count": null,
      "metadata": {
        "colab": {
          "base_uri": "https://localhost:8080/",
          "height": 49,
          "referenced_widgets": [
            "07cb054da4434b41a21b19fc84868a12",
            "a6ff97d847844931b1183ea8b27cd8ae",
            "3a3c8a121dc148dab1e9c4775c14e070",
            "4599c2ece91f452283ab39922d719168",
            "558ccbb5449a47ef8f82ce68b8f6ea98",
            "e695b364674b4487a67e4abbc1864b6b",
            "930fbd5f775545a2b776f48e08b6283b",
            "ab006d9313074a56ad5f5e108771ba02",
            "caeccb5dc54244a5854f9c761e275ef2",
            "3c26754b7ec548bfa52532608c2d8a27",
            "97381cd6879b4c6a8af9be2818dbb193"
          ]
        },
        "id": "X6BzznnuqBCI",
        "outputId": "2402d6e8-7c00-4e7a-c3b1-21f17896f156"
      },
      "outputs": [
        {
          "data": {
            "application/vnd.jupyter.widget-view+json": {
              "model_id": "07cb054da4434b41a21b19fc84868a12",
              "version_major": 2,
              "version_minor": 0
            },
            "text/plain": [
              "  0%|          | 0/1000 [00:00<?, ?it/s]"
            ]
          },
          "metadata": {},
          "output_type": "display_data"
        }
      ],
      "source": [
        "for trajectory in tqdm(range(MAX_TRAJECTORIES)):\n",
        "    curr_state = env.reset()\n",
        "    done = False\n",
        "    transitions = [] \n",
        "    # iterating the trajectory\n",
        "    for t in range(Horizon):\n",
        "        act_prob = model(torch.from_numpy(curr_state).float())\n",
        "        if trajectory > 500:\n",
        "            action = np.argmax(act_prob.data.numpy())\n",
        "        else:\n",
        "            action = np.random.choice(np.array([0,1]), p=act_prob.data.numpy())\n",
        "        prev_state = curr_state\n",
        "        curr_state, _, done, info = env.step(action) \n",
        "        transitions.append((prev_state, action, t+1)) \n",
        "        if done: \n",
        "            break\n",
        "    # iters until fallen\n",
        "    score.append(len(transitions))\n",
        "    reward_batch = torch.Tensor([r for (s,a,r) in \n",
        "                   transitions]).flip(dims=(0,)) \n",
        "\n",
        "    \n",
        "    batch_Gvals = [reward_batch[-1]]\n",
        "    for i in reversed(range(len(transitions) - 1)):\n",
        "        new_Gval = gamma * batch_Gvals[-1] + reward_batch[i]\n",
        "        batch_Gvals.append(new_Gval)\n",
        "\n",
        "    batch_Gvals.reverse()\n",
        "\n",
        "\n",
        "    expected_returns_batch=torch.FloatTensor(batch_Gvals)\n",
        "    expected_returns_batch /= expected_returns_batch.max()\n",
        "\n",
        "    state_batch = torch.Tensor(np.array([s for (s,a,r) in transitions])) \n",
        "    action_batch = torch.Tensor(np.array([a for (s,a,r) in transitions])) \n",
        "\n",
        "    pred_batch = model(state_batch) \n",
        "    prob_batch = pred_batch.gather(dim=1,index=action_batch\n",
        "                 .long().view(-1,1)).squeeze() \n",
        "    # so, compute the gradient\n",
        "    loss= -torch.sum(torch.log(prob_batch)*expected_returns_batch) \n",
        "    \n",
        "    optimizer.zero_grad()\n",
        "    loss.backward()\n",
        "    optimizer.step()"
      ]
    },
    {
      "cell_type": "code",
      "execution_count": null,
      "metadata": {
        "colab": {
          "base_uri": "https://localhost:8080/",
          "height": 445
        },
        "id": "y87huhQz9WeB",
        "outputId": "1f961e1d-f703-42c9-92b9-1baec448993f"
      },
      "outputs": [
        {
          "data": {
            "image/png": "[encoded data removed]",
            "text/plain": [
              "<Figure size 1080x504 with 1 Axes>"
            ]
          },
          "metadata": {
            "needs_background": "light"
          },
          "output_type": "display_data"
        }
      ],
      "source": [
        "def running_mean(x):\n",
        "    N=50\n",
        "    kernel = np.ones(N)\n",
        "    conv_len = x.shape[0]-N\n",
        "    y = np.zeros(conv_len)\n",
        "\n",
        "    shift = int(N/2)\n",
        "    for i in range(shift, conv_len + shift):\n",
        "        y[i - shift] = kernel @ x[i-shift:i+shift]\n",
        "        y[i - shift] /= N\n",
        "    return y\n",
        "\n",
        "score = np.array(score)\n",
        "avg_score = running_mean(score)\n",
        "\n",
        "plt.figure(figsize=(15,7))\n",
        "plt.ylabel(\"Trajectory Duration\",fontsize=12)\n",
        "plt.xlabel(\"Training Epochs\",fontsize=12)\n",
        "plt.plot(score, color='gray' , linewidth=1)\n",
        "plt.plot(np.arange(25, 25 + len(avg_score)), avg_score, color='blue', linewidth=3)\n",
        "plt.scatter(np.arange(score.shape[0]),score, \n",
        "            color='green' , linewidth=0.3)\n",
        "plt.show()"
      ]
    },
    {
      "cell_type": "markdown",
      "metadata": {
        "id": "PPmi8fSYUDfZ"
      },
      "source": [
        "### Task\n",
        "\n",
        "1. Change computation of `batch_Gvals`, so that it works faster.\n",
        "\n",
        "- Initial implementation had quadratic asymptotics. I changed it to the linear one by reverse computing of the G function.\n",
        "\n",
        "2. Sometimes even if we proceed training for thousands of epochs, we may face situations when cart pole does not run for all the time. What is the reason? Change the code in a way cart pole does not fall quickly in the late simulations. \n",
        "\n",
        "- We are dealing with Policy-Based RL, specifically REINFORCE Policy Gradient Algorithm. Policy-Based algorithms converge to local maximums. We can not guarantee Global optimum finding. I laucnhed code several times and some of the simulations did not converge to 500. In problems with gradient optimization the selection of initial values is very importent moment. In our case convergence of the algorithm is dependent on initial RNN parameters.\n",
        "\n",
        "- The true solution here is to remove stochastic element from our policy. From the 500 epoch I change softmax action choise to the greedy one. It is a bad thing to remove stochastic element absolutely, but in our case it works okay, because model get's enough inforformation from the enviroment to make a right action decision."
      ]
    },
    {
      "cell_type": "markdown",
      "metadata": {
        "id": "vpxL7NnpVFwi"
      },
      "source": [
        "## Actor-Critic"
      ]
    },
    {
      "cell_type": "markdown",
      "metadata": {
        "id": "G3uCB18bY676"
      },
      "source": [
        "Based on the [materials](https://github.com/nikhilbarhate99/Actor-Critic-PyTorch).\n",
        "\n",
        "<img src=\"https://github.com/nikhilbarhate99/Actor-Critic/raw/master/gif/gif3.gif\">"
      ]
    },
    {
      "cell_type": "code",
      "execution_count": null,
      "metadata": {
        "colab": {
          "base_uri": "https://localhost:8080/"
        },
        "id": "F__qAeCCXyTZ",
        "outputId": "73ba030b-11c6-428f-971c-3df6257bfe28"
      },
      "outputs": [
        {
          "name": "stdout",
          "output_type": "stream",
          "text": [
            "Looking in indexes: https://pypi.org/simple, https://us-python.pkg.dev/colab-wheels/public/simple/\n",
            "Requirement already satisfied: gym[box2d] in /usr/local/lib/python3.8/dist-packages (0.25.2)\n",
            "Requirement already satisfied: importlib-metadata>=4.8.0 in /usr/local/lib/python3.8/dist-packages (from gym[box2d]) (4.13.0)\n",
            "Requirement already satisfied: numpy>=1.18.0 in /usr/local/lib/python3.8/dist-packages (from gym[box2d]) (1.21.6)\n",
            "Requirement already satisfied: cloudpickle>=1.2.0 in /usr/local/lib/python3.8/dist-packages (from gym[box2d]) (1.5.0)\n",
            "Requirement already satisfied: gym-notices>=0.0.4 in /usr/local/lib/python3.8/dist-packages (from gym[box2d]) (0.0.8)\n",
            "Collecting box2d-py==2.3.5\n",
            "  Downloading box2d-py-2.3.5.tar.gz (374 kB)\n",
            "\u001b[K     |████████████████████████████████| 374 kB 4.2 MB/s \n",
            "\u001b[?25hCollecting pygame==2.1.0\n",
            "  Downloading pygame-2.1.0-cp38-cp38-manylinux_2_17_x86_64.manylinux2014_x86_64.whl (18.3 MB)\n",
            "\u001b[K     |████████████████████████████████| 18.3 MB 1.3 MB/s \n",
            "\u001b[?25hCollecting swig==4.*\n",
            "  Downloading swig-4.1.0-py2.py3-none-manylinux_2_5_x86_64.manylinux1_x86_64.whl (1.8 MB)\n",
            "\u001b[K     |████████████████████████████████| 1.8 MB 50.2 MB/s \n",
            "\u001b[?25hRequirement already satisfied: zipp>=0.5 in /usr/local/lib/python3.8/dist-packages (from importlib-metadata>=4.8.0->gym[box2d]) (3.10.0)\n",
            "Building wheels for collected packages: box2d-py\n",
            "  Building wheel for box2d-py (setup.py) ... \u001b[?25lerror\n",
            "\u001b[31m  ERROR: Failed building wheel for box2d-py\u001b[0m\n",
            "\u001b[?25h  Running setup.py clean for box2d-py\n",
            "Failed to build box2d-py\n",
            "Installing collected packages: swig, pygame, box2d-py\n",
            "    Running setup.py install for box2d-py ... \u001b[?25l\u001b[?25hdone\n",
            "\u001b[33m  DEPRECATION: box2d-py was installed using the legacy 'setup.py install' method, because a wheel could not be built for it. A possible replacement is to fix the wheel build issue reported above. You can find discussion regarding this at https://github.com/pypa/pip/issues/8368.\u001b[0m\n",
            "Successfully installed box2d-py-2.3.5 pygame-2.1.0 swig-4.1.0\n"
          ]
        }
      ],
      "source": [
        "!pip install gym[box2d]"
      ]
    },
    {
      "cell_type": "code",
      "execution_count": null,
      "metadata": {
        "id": "O7M1bhPzTXSs"
      },
      "outputs": [],
      "source": [
        "import torch\n",
        "import torch.nn as nn\n",
        "import torch.nn.functional as F\n",
        "from torch.distributions import Categorical\n",
        "\n",
        "class ActorCritic(nn.Module):\n",
        "    def __init__(self):\n",
        "        super(ActorCritic, self).__init__()\n",
        "        self.affine = nn.Linear(8, 128)\n",
        "        \n",
        "        self.action_layer = nn.Linear(128, 4)\n",
        "        self.value_layer = nn.Linear(128, 1)\n",
        "        \n",
        "        self.logprobs = []\n",
        "        self.state_values = []\n",
        "        self.rewards = []\n",
        "\n",
        "    def forward(self, state):\n",
        "        state = torch.from_numpy(state).float()\n",
        "        state = F.relu(self.affine(state))\n",
        "        \n",
        "        state_value = self.value_layer(state)\n",
        "        \n",
        "        action_probs = F.softmax(self.action_layer(state))\n",
        "        action_distribution = Categorical(action_probs)\n",
        "        action = action_distribution.sample()\n",
        "        \n",
        "        self.logprobs.append(action_distribution.log_prob(action))\n",
        "        self.state_values.append(state_value)\n",
        "        \n",
        "        return action.item()\n",
        "    \n",
        "    def calculateLoss(self, gamma=0.99):\n",
        "        \n",
        "        # calculating discounted rewards:\n",
        "        rewards = []\n",
        "        dis_reward = 0\n",
        "        for reward in self.rewards[::-1]:\n",
        "            dis_reward = reward + gamma * dis_reward\n",
        "            rewards.insert(0, dis_reward)\n",
        "                \n",
        "        # normalizing the rewards:\n",
        "        rewards = torch.tensor(rewards)\n",
        "        rewards = (rewards - rewards.mean()) / (rewards.std())\n",
        "        \n",
        "        loss = 0\n",
        "        for logprob, value, reward in zip(self.logprobs, self.state_values, rewards):\n",
        "            advantage = reward - value.item()\n",
        "            action_loss = -logprob * advantage\n",
        "            value_loss = F.smooth_l1_loss(value, reward)\n",
        "            loss += (action_loss + value_loss)   \n",
        "        return loss\n",
        "    \n",
        "    def clearMemory(self):\n",
        "        del self.logprobs[:]\n",
        "        del self.state_values[:]\n",
        "        del self.rewards[:]"
      ]
    },
    {
      "cell_type": "code",
      "execution_count": null,
      "metadata": {
        "id": "rexuAYxlXsn5"
      },
      "outputs": [],
      "source": [
        "def test(n_episodes=5, name='LunarLander_TWO.pth'):\n",
        "    env = gym.make('LunarLander-v2')\n",
        "    policy = ActorCritic()\n",
        "    \n",
        "    policy.load_state_dict(torch.load('./preTrained/{}'.format(name)))\n",
        "    \n",
        "    render = True\n",
        "    save_gif = False\n",
        "\n",
        "    for i_episode in range(1, n_episodes+1):\n",
        "        state = env.reset()\n",
        "        running_reward = 0\n",
        "        for t in range(10000):\n",
        "            action = policy(state)\n",
        "            state, reward, done, _ = env.step(action)\n",
        "            running_reward += reward\n",
        "            if render:\n",
        "                 env.render()\n",
        "                 if save_gif:\n",
        "                     img = env.render(mode = 'rgb_array')\n",
        "                     img = Image.fromarray(img)\n",
        "                     img.save('./gif/{}.jpg'.format(t))\n",
        "            if done:\n",
        "                break\n",
        "        print('Episode {}\\tReward: {}'.format(i_episode, running_reward))\n",
        "    env.close()"
      ]
    },
    {
      "cell_type": "code",
      "execution_count": null,
      "metadata": {
        "id": "rUMH_5TbXXTJ"
      },
      "outputs": [],
      "source": [
        "import torch\n",
        "import torch.optim as optim\n",
        "import gym\n",
        "\n",
        "def train():\n",
        "    # Defaults parameters:\n",
        "    #    gamma = 0.99\n",
        "    #    lr = 0.02\n",
        "    #    betas = (0.9, 0.999)\n",
        "    #    random_seed = 543\n",
        "\n",
        "    render = False\n",
        "    gamma = 0.99\n",
        "    lr = 0.02\n",
        "    betas = (0.9, 0.999)\n",
        "    random_seed = 543\n",
        "    \n",
        "    torch.manual_seed(random_seed)\n",
        "    \n",
        "    env = gym.make('LunarLander-v2')\n",
        "    env.seed(random_seed)\n",
        "    \n",
        "    policy = ActorCritic()\n",
        "    optimizer = optim.Adam(policy.parameters(), lr=lr, betas=betas)\n",
        "    print(lr,betas)\n",
        "    \n",
        "    running_reward = 0\n",
        "    for i_episode in range(0, 10000):\n",
        "        state = env.reset()\n",
        "        for t in range(10000):\n",
        "            action = policy(state)\n",
        "            state, reward, done, _ = env.step(action)\n",
        "            policy.rewards.append(reward)\n",
        "            running_reward += reward\n",
        "            if render and i_episode > 1000:\n",
        "                env.render()\n",
        "            if done:\n",
        "                break\n",
        "                    \n",
        "        # Updating the policy :\n",
        "        optimizer.zero_grad()\n",
        "        loss = policy.calculateLoss(gamma)\n",
        "        loss.backward()\n",
        "        optimizer.step()\n",
        "        policy.clearMemory()\n",
        "        \n",
        "        # saving the model if episodes > 999 OR avg reward > 200 \n",
        "        #if i_episode > 999:\n",
        "        #    torch.save(policy.state_dict(), './preTrained/LunarLander_{}_{}_{}.pth'.format(lr, betas[0], betas[1]))\n",
        "        \n",
        "        if running_reward > 4000:\n",
        "            torch.save(policy.state_dict(), './preTrained/LunarLander_{}_{}_{}.pth'.format(lr, betas[0], betas[1]))\n",
        "            print(\"########## Solved! ##########\")\n",
        "            test(name='LunarLander_{}_{}_{}.pth'.format(lr, betas[0], betas[1]))\n",
        "            break\n",
        "        \n",
        "        if i_episode % 20 == 0:\n",
        "            running_reward = running_reward/20\n",
        "            print('Episode {}\\tlength: {}\\treward: {}'.format(i_episode, t, running_reward))\n",
        "            running_reward = 0"
      ]
    },
    {
      "cell_type": "code",
      "execution_count": null,
      "metadata": {
        "colab": {
          "base_uri": "https://localhost:8080/"
        },
        "id": "lgw6cM02XnET",
        "outputId": "2c3b9987-1e69-4bb1-8ac5-dc8633c06a00"
      },
      "outputs": [
        {
          "name": "stderr",
          "output_type": "stream",
          "text": [
            "/usr/local/lib/python3.8/dist-packages/gym/core.py:317: DeprecationWarning: \u001b[33mWARN: Initializing wrapper in old step API which returns one bool instead of two. It is recommended to set `new_step_api=True` to use new step API. This will be the default behaviour in future.\u001b[0m\n",
            "  deprecation(\n",
            "/usr/local/lib/python3.8/dist-packages/gym/wrappers/step_api_compatibility.py:39: DeprecationWarning: \u001b[33mWARN: Initializing environment in old step API which returns one bool instead of two. It is recommended to set `new_step_api=True` to use new step API. This will be the default behaviour in future.\u001b[0m\n",
            "  deprecation(\n",
            "/usr/local/lib/python3.8/dist-packages/gym/core.py:256: DeprecationWarning: \u001b[33mWARN: Function `env.seed(seed)` is marked as deprecated and will be removed in the future. Please use `env.reset(seed=seed)` instead.\u001b[0m\n",
            "  deprecation(\n",
            "<ipython-input-42-fb26534a3af9>:24: UserWarning: Implicit dimension choice for softmax has been deprecated. Change the call to include dim=X as an argument.\n",
            "  action_probs = F.softmax(self.action_layer(state))\n",
            "<ipython-input-42-fb26534a3af9>:50: UserWarning: Using a target size (torch.Size([])) that is different to the input size (torch.Size([1])). This will likely lead to incorrect results due to broadcasting. Please ensure they have the same size.\n",
            "  value_loss = F.smooth_l1_loss(value, reward)\n"
          ]
        },
        {
          "name": "stdout",
          "output_type": "stream",
          "text": [
            "0.02 (0.9, 0.999)\n",
            "Episode 0\tlength: 56\treward: -5.3042587663308085\n",
            "Episode 20\tlength: 124\treward: -535.4136732711684\n",
            "Episode 40\tlength: 83\treward: -377.2784142796166\n",
            "Episode 60\tlength: 135\treward: -169.5526550341877\n",
            "Episode 80\tlength: 94\treward: -70.4406611132556\n",
            "Episode 100\tlength: 95\treward: -57.81122334723857\n",
            "Episode 120\tlength: 201\treward: -102.21722582364347\n",
            "Episode 140\tlength: 117\treward: -54.79442247856817\n",
            "Episode 160\tlength: 88\treward: -122.76347691186189\n",
            "Episode 180\tlength: 101\treward: -31.41787949577962\n",
            "Episode 200\tlength: 116\treward: -88.49497413840297\n",
            "Episode 220\tlength: 556\treward: -34.31303242245285\n",
            "Episode 240\tlength: 999\treward: -14.369208708361501\n",
            "Episode 260\tlength: 169\treward: -21.533207949741232\n",
            "Episode 280\tlength: 100\treward: 2.5177678426868866\n",
            "Episode 300\tlength: 323\treward: 21.177338412018134\n",
            "Episode 320\tlength: 999\treward: 26.41543894038665\n",
            "Episode 340\tlength: 137\treward: 64.20164691664114\n",
            "Episode 360\tlength: 999\treward: 63.10760224754124\n",
            "Episode 380\tlength: 999\treward: 1.3376117732227075\n",
            "Episode 400\tlength: 207\treward: 41.57831606296837\n",
            "Episode 420\tlength: 287\treward: 74.94703011388711\n",
            "Episode 440\tlength: 383\treward: 53.91951077832336\n",
            "Episode 460\tlength: 725\treward: -149.6598181185534\n",
            "Episode 480\tlength: 281\treward: 28.256442565738457\n",
            "Episode 500\tlength: 251\treward: 24.328458486798162\n",
            "Episode 520\tlength: 999\treward: -48.3121337763992\n",
            "Episode 540\tlength: 514\treward: 86.41255804757957\n",
            "Episode 560\tlength: 999\treward: -4.222225679513501\n",
            "Episode 580\tlength: 999\treward: 54.23223019433245\n",
            "Episode 600\tlength: 220\treward: 88.28208036630238\n",
            "Episode 620\tlength: 999\treward: 119.39788156271818\n",
            "Episode 640\tlength: 271\treward: 69.53674333461377\n",
            "Episode 660\tlength: 246\treward: 55.17535217182471\n",
            "Episode 680\tlength: 999\treward: 75.87594149938096\n",
            "Episode 700\tlength: 999\treward: 102.05095692257592\n",
            "Episode 720\tlength: 999\treward: 122.41770867914325\n",
            "Episode 740\tlength: 999\treward: 133.3965715828195\n",
            "Episode 760\tlength: 999\treward: 116.6722365348166\n",
            "Episode 780\tlength: 999\treward: 123.46756905306333\n",
            "Episode 800\tlength: 999\treward: 119.15523864091628\n",
            "Episode 820\tlength: 999\treward: 122.044618754894\n",
            "Episode 840\tlength: 396\treward: 98.73125269827044\n",
            "Episode 860\tlength: 999\treward: 151.99063636436563\n",
            "Episode 880\tlength: 723\treward: 143.84950222705388\n",
            "Episode 900\tlength: 184\treward: 136.58684926269547\n",
            "Episode 920\tlength: 851\treward: 171.96503284960505\n",
            "Episode 940\tlength: 999\treward: 127.26239890967254\n",
            "Episode 960\tlength: 340\treward: 96.66264115515095\n",
            "Episode 980\tlength: 379\treward: 107.6433910797676\n",
            "Episode 1000\tlength: 492\treward: 152.2101316590436\n",
            "Episode 1020\tlength: 854\treward: 138.55642285860495\n",
            "Episode 1040\tlength: 999\treward: 108.01862645095957\n",
            "Episode 1060\tlength: 626\treward: 183.83832202387447\n",
            "Episode 1080\tlength: 206\treward: 134.2041576480673\n",
            "Episode 1100\tlength: 999\treward: 120.30089703409146\n",
            "Episode 1120\tlength: 999\treward: 118.79302370698663\n",
            "Episode 1140\tlength: 999\treward: 121.0185729278273\n",
            "Episode 1160\tlength: 999\treward: 115.8851471545008\n",
            "Episode 1180\tlength: 999\treward: 129.9654598131363\n",
            "Episode 1200\tlength: 999\treward: 120.41522405864748\n",
            "Episode 1220\tlength: 927\treward: 100.97786958953776\n",
            "Episode 1240\tlength: 999\treward: 140.84301668589993\n",
            "Episode 1260\tlength: 999\treward: 139.73388217626388\n",
            "Episode 1280\tlength: 999\treward: 126.17738175028379\n",
            "Episode 1300\tlength: 999\treward: 137.32893735403988\n",
            "Episode 1320\tlength: 249\treward: 116.86448439162095\n",
            "Episode 1340\tlength: 188\treward: 62.37122222634368\n",
            "Episode 1360\tlength: 999\treward: 19.030997271788234\n",
            "Episode 1380\tlength: 375\treward: 102.93942446166884\n",
            "Episode 1400\tlength: 490\treward: 139.82993382365666\n",
            "Episode 1420\tlength: 670\treward: 88.72445625899834\n",
            "Episode 1440\tlength: 472\treward: 143.97930121074745\n",
            "Episode 1460\tlength: 223\treward: 79.66400100936889\n",
            "Episode 1480\tlength: 297\treward: 91.88970556557939\n",
            "Episode 1500\tlength: 326\treward: 100.6395090673885\n",
            "Episode 1520\tlength: 313\treward: 80.96120751165971\n",
            "Episode 1540\tlength: 366\treward: 101.67637655537128\n",
            "Episode 1560\tlength: 386\treward: 81.84925152655497\n",
            "Episode 1580\tlength: 361\treward: 112.644831748739\n",
            "Episode 1600\tlength: 514\treward: 95.32086043801225\n",
            "Episode 1620\tlength: 999\treward: 69.64886834390838\n",
            "Episode 1640\tlength: 394\treward: 116.0968650018012\n",
            "Episode 1660\tlength: 999\treward: 145.64149360335506\n",
            "Episode 1680\tlength: 999\treward: 112.37919709383297\n",
            "Episode 1700\tlength: 339\treward: 94.19101170698595\n",
            "Episode 1720\tlength: 351\treward: 137.04116447451617\n",
            "Episode 1740\tlength: 999\treward: 107.1783926811567\n",
            "Episode 1760\tlength: 999\treward: 88.94088357862822\n",
            "Episode 1780\tlength: 999\treward: 127.96672793033326\n",
            "Episode 1800\tlength: 243\treward: 87.09517369408053\n",
            "Episode 1820\tlength: 253\treward: 117.17759247737158\n",
            "Episode 1840\tlength: 456\treward: 120.36994405019166\n",
            "Episode 1860\tlength: 234\treward: 135.43108210735622\n",
            "Episode 1880\tlength: 999\treward: 135.37564004452625\n",
            "Episode 1900\tlength: 285\treward: 67.58623408302043\n",
            "Episode 1920\tlength: 999\treward: 157.57111924579624\n",
            "Episode 1940\tlength: 210\treward: 159.0090712817067\n",
            "Episode 1960\tlength: 194\treward: 100.38509493394065\n",
            "Episode 1980\tlength: 999\treward: 142.1751790078028\n",
            "Episode 2000\tlength: 144\treward: 85.6951597666326\n",
            "Episode 2020\tlength: 999\treward: 126.42550822567671\n",
            "Episode 2040\tlength: 999\treward: 97.1154637167336\n",
            "Episode 2060\tlength: 999\treward: 101.13358532720417\n",
            "Episode 2080\tlength: 236\treward: 155.8315202489236\n",
            "Episode 2100\tlength: 999\treward: 114.48752701217339\n",
            "Episode 2120\tlength: 999\treward: 73.56757111017008\n",
            "Episode 2140\tlength: 91\treward: 81.84865386706562\n",
            "Episode 2160\tlength: 999\treward: 116.71046242882895\n",
            "Episode 2180\tlength: 999\treward: 130.24119631096946\n",
            "Episode 2200\tlength: 999\treward: 147.19115728785167\n",
            "Episode 2220\tlength: 999\treward: 105.63795579728075\n",
            "Episode 2240\tlength: 999\treward: 137.8854509028728\n",
            "Episode 2260\tlength: 196\treward: 90.53224600153993\n",
            "Episode 2280\tlength: 999\treward: 129.53706347200355\n",
            "Episode 2300\tlength: 251\treward: 146.2226762959628\n",
            "Episode 2320\tlength: 254\treward: 133.48955184972078\n",
            "Episode 2340\tlength: 213\treward: 137.38404598705586\n",
            "Episode 2360\tlength: 999\treward: 134.5000990807464\n",
            "Episode 2380\tlength: 999\treward: 125.25201868555014\n",
            "Episode 2400\tlength: 999\treward: 86.0096435431395\n",
            "Episode 2420\tlength: 999\treward: 149.7747955842861\n",
            "Episode 2440\tlength: 999\treward: 141.46988110466594\n",
            "Episode 2460\tlength: 999\treward: 143.76951693520894\n",
            "Episode 2480\tlength: 999\treward: 148.42561310924327\n",
            "Episode 2500\tlength: 999\treward: 134.60523870440647\n",
            "Episode 2520\tlength: 314\treward: 137.4889844451356\n",
            "Episode 2540\tlength: 999\treward: 143.9229496555649\n",
            "Episode 2560\tlength: 402\treward: 132.28297606267495\n",
            "Episode 2580\tlength: 999\treward: 145.4072688268676\n",
            "Episode 2600\tlength: 999\treward: 145.89371235736618\n",
            "Episode 2620\tlength: 999\treward: 141.21680487508414\n",
            "Episode 2640\tlength: 999\treward: 139.90458295047102\n",
            "Episode 2660\tlength: 999\treward: 145.387613351908\n",
            "Episode 2680\tlength: 999\treward: 144.50428640409015\n",
            "Episode 2700\tlength: 999\treward: 137.86159741302762\n",
            "Episode 2720\tlength: 999\treward: 124.73600531802965\n",
            "Episode 2740\tlength: 999\treward: 141.6057160551549\n",
            "Episode 2760\tlength: 999\treward: 144.38697108363607\n",
            "Episode 2780\tlength: 272\treward: 175.8943800952622\n",
            "Episode 2800\tlength: 999\treward: 146.00020057853928\n",
            "Episode 2820\tlength: 999\treward: 149.47258947625662\n",
            "Episode 2840\tlength: 999\treward: 146.2523237828674\n",
            "Episode 2860\tlength: 999\treward: 155.4353612295063\n",
            "Episode 2880\tlength: 999\treward: 137.9995691619693\n",
            "Episode 2900\tlength: 999\treward: 134.39033354821862\n",
            "Episode 2920\tlength: 999\treward: 131.42629550870356\n",
            "Episode 2940\tlength: 999\treward: 138.57478486909432\n",
            "Episode 2960\tlength: 999\treward: 158.23516574843066\n",
            "Episode 2980\tlength: 999\treward: 137.8519011141017\n",
            "Episode 3000\tlength: 999\treward: 132.98400300518887\n",
            "Episode 3020\tlength: 999\treward: 150.5850528594312\n",
            "Episode 3040\tlength: 999\treward: 142.98947652518953\n",
            "Episode 3060\tlength: 999\treward: 130.4628577221527\n",
            "Episode 3080\tlength: 999\treward: 144.83056294454107\n",
            "Episode 3100\tlength: 999\treward: 154.0743037350698\n",
            "Episode 3120\tlength: 999\treward: 137.66267842674557\n",
            "Episode 3140\tlength: 999\treward: 145.62782378206848\n",
            "Episode 3160\tlength: 999\treward: 151.16952233587136\n",
            "Episode 3180\tlength: 999\treward: 147.7353255172192\n",
            "Episode 3200\tlength: 999\treward: 138.34408075935738\n",
            "Episode 3220\tlength: 999\treward: 149.21935659062768\n",
            "Episode 3240\tlength: 999\treward: 161.53401988065718\n",
            "Episode 3260\tlength: 999\treward: 152.98450772646635\n",
            "Episode 3280\tlength: 999\treward: 144.33916053835165\n",
            "Episode 3300\tlength: 999\treward: 144.39274546125606\n",
            "Episode 3320\tlength: 999\treward: 152.9478412499772\n",
            "Episode 3340\tlength: 999\treward: 144.97543390158762\n",
            "Episode 3360\tlength: 999\treward: 153.62733330838367\n",
            "Episode 3380\tlength: 999\treward: 154.40952286519922\n",
            "Episode 3400\tlength: 999\treward: 151.89790527700194\n",
            "Episode 3420\tlength: 999\treward: 159.88132006450738\n",
            "Episode 3440\tlength: 999\treward: 151.2532445438546\n",
            "Episode 3460\tlength: 999\treward: 158.66806264490734\n",
            "Episode 3480\tlength: 999\treward: 137.18825726408573\n",
            "Episode 3500\tlength: 999\treward: 150.2202859514395\n",
            "Episode 3520\tlength: 999\treward: 153.50993471589211\n",
            "Episode 3540\tlength: 999\treward: 149.82348926742472\n",
            "Episode 3560\tlength: 386\treward: 140.2360180877238\n",
            "Episode 3580\tlength: 999\treward: 146.1379762926898\n",
            "Episode 3600\tlength: 999\treward: 151.84362263316302\n",
            "Episode 3620\tlength: 999\treward: 159.76748614479774\n",
            "Episode 3640\tlength: 999\treward: 140.73484139069382\n",
            "Episode 3660\tlength: 999\treward: 148.56982284307452\n",
            "Episode 3680\tlength: 999\treward: 152.18632912718743\n",
            "Episode 3700\tlength: 999\treward: 153.021570617135\n",
            "Episode 3720\tlength: 999\treward: 136.47959926158495\n",
            "Episode 3740\tlength: 999\treward: 140.80853891377254\n",
            "Episode 3760\tlength: 999\treward: 147.1743773082421\n",
            "Episode 3780\tlength: 999\treward: 147.19095700952857\n",
            "Episode 3800\tlength: 999\treward: 152.36570477991108\n",
            "Episode 3820\tlength: 999\treward: 150.1216049219702\n",
            "Episode 3840\tlength: 999\treward: 145.37735952963013\n",
            "Episode 3860\tlength: 999\treward: 149.12693788609272\n",
            "Episode 3880\tlength: 999\treward: 142.85662862901978\n",
            "Episode 3900\tlength: 999\treward: 143.74804634854377\n",
            "Episode 3920\tlength: 999\treward: 148.2712111713793\n",
            "Episode 3940\tlength: 999\treward: 144.47674690571412\n",
            "Episode 3960\tlength: 999\treward: 147.66402811394406\n",
            "Episode 3980\tlength: 999\treward: 155.62306741427966\n",
            "Episode 4000\tlength: 999\treward: 148.2022899197595\n",
            "Episode 4020\tlength: 999\treward: 150.14263542004898\n",
            "Episode 4040\tlength: 999\treward: 156.02723483636063\n",
            "Episode 4060\tlength: 999\treward: 155.41668850145655\n",
            "Episode 4080\tlength: 999\treward: 154.09739573185385\n",
            "Episode 4100\tlength: 999\treward: 160.88126090214104\n",
            "Episode 4120\tlength: 999\treward: 145.43661538261767\n",
            "Episode 4140\tlength: 99\treward: 126.68810348924066\n",
            "Episode 4160\tlength: 80\treward: 45.49391373116892\n",
            "Episode 4180\tlength: 100\treward: 13.707402667309111\n",
            "Episode 4200\tlength: 66\treward: -43.44605846322844\n",
            "Episode 4220\tlength: 64\treward: -90.82238314904171\n",
            "Episode 4240\tlength: 72\treward: -81.02190349933866\n",
            "Episode 4260\tlength: 80\treward: -75.06070563114997\n",
            "Episode 4280\tlength: 87\treward: -71.12737023943592\n",
            "Episode 4300\tlength: 72\treward: -39.94687200298641\n",
            "Episode 4320\tlength: 81\treward: -16.753427290882403\n",
            "Episode 4340\tlength: 87\treward: -17.01312624310683\n",
            "Episode 4360\tlength: 53\treward: -47.590877704633996\n",
            "Episode 4380\tlength: 65\treward: -49.04991623681313\n",
            "Episode 4400\tlength: 85\treward: 10.891534340188988\n",
            "Episode 4420\tlength: 81\treward: -7.052025395151486\n",
            "Episode 4440\tlength: 100\treward: 24.269325989186086\n",
            "Episode 4460\tlength: 89\treward: 9.912667500829338\n",
            "Episode 4480\tlength: 65\treward: 9.40078259036471\n",
            "Episode 4500\tlength: 999\treward: 67.26730253479857\n",
            "Episode 4520\tlength: 452\treward: 68.67610317777891\n",
            "Episode 4540\tlength: 224\treward: 85.48094313260937\n",
            "Episode 4560\tlength: 999\treward: 130.25774541905176\n",
            "Episode 4580\tlength: 146\treward: 93.54031864346408\n",
            "Episode 4600\tlength: 89\treward: 118.2824645861895\n"
          ]
        }
      ],
      "source": [
        "train()"
      ]
    },
    {
      "cell_type": "code",
      "execution_count": null,
      "metadata": {
        "id": "KsfS7UZjXv6A"
      },
      "outputs": [],
      "source": []
    }
  ],
  "metadata": {
    "colab": {
      "provenance": []
    },
    "kernelspec": {
      "display_name": "Python 3.8.8 ('base')",
      "language": "python",
      "name": "python3"
    },
    "language_info": {
      "name": "python",
      "version": "3.8.8 (default, Apr 13 2021, 19:58:26) \n[GCC 7.3.0]"
    },
    "vscode": {
      "interpreter": {
        "hash": "82ca00de6dfeb9e2eef59d83b518ae9b61e5781747466ffa06053c845d8d3ce9"
      }
    },
    "widgets": {
      "application/vnd.jupyter.widget-state+json": {
        "07cb054da4434b41a21b19fc84868a12": {
          "model_module": "@jupyter-widgets/controls",
          "model_module_version": "1.5.0",
          "model_name": "HBoxModel",
          "state": {
            "_dom_classes": [],
            "_model_module": "@jupyter-widgets/controls",
            "_model_module_version": "1.5.0",
            "_model_name": "HBoxModel",
            "_view_count": null,
            "_view_module": "@jupyter-widgets/controls",
            "_view_module_version": "1.5.0",
            "_view_name": "HBoxView",
            "box_style": "",
            "children": [
              "IPY_MODEL_a6ff97d847844931b1183ea8b27cd8ae",
              "IPY_MODEL_3a3c8a121dc148dab1e9c4775c14e070",
              "IPY_MODEL_4599c2ece91f452283ab39922d719168"
            ],
            "layout": "IPY_MODEL_558ccbb5449a47ef8f82ce68b8f6ea98"
          }
        },
        "3a3c8a121dc148dab1e9c4775c14e070": {
          "model_module": "@jupyter-widgets/controls",
          "model_module_version": "1.5.0",
          "model_name": "FloatProgressModel",
          "state": {
            "_dom_classes": [],
            "_model_module": "@jupyter-widgets/controls",
            "_model_module_version": "1.5.0",
            "_model_name": "FloatProgressModel",
            "_view_count": null,
            "_view_module": "@jupyter-widgets/controls",
            "_view_module_version": "1.5.0",
            "_view_name": "ProgressView",
            "bar_style": "success",
            "description": "",
            "description_tooltip": null,
            "layout": "IPY_MODEL_ab006d9313074a56ad5f5e108771ba02",
            "max": 1000,
            "min": 0,
            "orientation": "horizontal",
            "style": "IPY_MODEL_caeccb5dc54244a5854f9c761e275ef2",
            "value": 1000
          }
        },
        "3c26754b7ec548bfa52532608c2d8a27": {
          "model_module": "@jupyter-widgets/base",
          "model_module_version": "1.2.0",
          "model_name": "LayoutModel",
          "state": {
            "_model_module": "@jupyter-widgets/base",
            "_model_module_version": "1.2.0",
            "_model_name": "LayoutModel",
            "_view_count": null,
            "_view_module": "@jupyter-widgets/base",
            "_view_module_version": "1.2.0",
            "_view_name": "LayoutView",
            "align_content": null,
            "align_items": null,
            "align_self": null,
            "border": null,
            "bottom": null,
            "display": null,
            "flex": null,
            "flex_flow": null,
            "grid_area": null,
            "grid_auto_columns": null,
            "grid_auto_flow": null,
            "grid_auto_rows": null,
            "grid_column": null,
            "grid_gap": null,
            "grid_row": null,
            "grid_template_areas": null,
            "grid_template_columns": null,
            "grid_template_rows": null,
            "height": null,
            "justify_content": null,
            "justify_items": null,
            "left": null,
            "margin": null,
            "max_height": null,
            "max_width": null,
            "min_height": null,
            "min_width": null,
            "object_fit": null,
            "object_position": null,
            "order": null,
            "overflow": null,
            "overflow_x": null,
            "overflow_y": null,
            "padding": null,
            "right": null,
            "top": null,
            "visibility": null,
            "width": null
          }
        },
        "4599c2ece91f452283ab39922d719168": {
          "model_module": "@jupyter-widgets/controls",
          "model_module_version": "1.5.0",
          "model_name": "HTMLModel",
          "state": {
            "_dom_classes": [],
            "_model_module": "@jupyter-widgets/controls",
            "_model_module_version": "1.5.0",
            "_model_name": "HTMLModel",
            "_view_count": null,
            "_view_module": "@jupyter-widgets/controls",
            "_view_module_version": "1.5.0",
            "_view_name": "HTMLView",
            "description": "",
            "description_tooltip": null,
            "layout": "IPY_MODEL_3c26754b7ec548bfa52532608c2d8a27",
            "placeholder": "​",
            "style": "IPY_MODEL_97381cd6879b4c6a8af9be2818dbb193",
            "value": " 1000/1000 [01:10&lt;00:00, 12.64it/s]"
          }
        },
        "558ccbb5449a47ef8f82ce68b8f6ea98": {
          "model_module": "@jupyter-widgets/base",
          "model_module_version": "1.2.0",
          "model_name": "LayoutModel",
          "state": {
            "_model_module": "@jupyter-widgets/base",
            "_model_module_version": "1.2.0",
            "_model_name": "LayoutModel",
            "_view_count": null,
            "_view_module": "@jupyter-widgets/base",
            "_view_module_version": "1.2.0",
            "_view_name": "LayoutView",
            "align_content": null,
            "align_items": null,
            "align_self": null,
            "border": null,
            "bottom": null,
            "display": null,
            "flex": null,
            "flex_flow": null,
            "grid_area": null,
            "grid_auto_columns": null,
            "grid_auto_flow": null,
            "grid_auto_rows": null,
            "grid_column": null,
            "grid_gap": null,
            "grid_row": null,
            "grid_template_areas": null,
            "grid_template_columns": null,
            "grid_template_rows": null,
            "height": null,
            "justify_content": null,
            "justify_items": null,
            "left": null,
            "margin": null,
            "max_height": null,
            "max_width": null,
            "min_height": null,
            "min_width": null,
            "object_fit": null,
            "object_position": null,
            "order": null,
            "overflow": null,
            "overflow_x": null,
            "overflow_y": null,
            "padding": null,
            "right": null,
            "top": null,
            "visibility": null,
            "width": null
          }
        },
        "930fbd5f775545a2b776f48e08b6283b": {
          "model_module": "@jupyter-widgets/controls",
          "model_module_version": "1.5.0",
          "model_name": "DescriptionStyleModel",
          "state": {
            "_model_module": "@jupyter-widgets/controls",
            "_model_module_version": "1.5.0",
            "_model_name": "DescriptionStyleModel",
            "_view_count": null,
            "_view_module": "@jupyter-widgets/base",
            "_view_module_version": "1.2.0",
            "_view_name": "StyleView",
            "description_width": ""
          }
        },
        "97381cd6879b4c6a8af9be2818dbb193": {
          "model_module": "@jupyter-widgets/controls",
          "model_module_version": "1.5.0",
          "model_name": "DescriptionStyleModel",
          "state": {
            "_model_module": "@jupyter-widgets/controls",
            "_model_module_version": "1.5.0",
            "_model_name": "DescriptionStyleModel",
            "_view_count": null,
            "_view_module": "@jupyter-widgets/base",
            "_view_module_version": "1.2.0",
            "_view_name": "StyleView",
            "description_width": ""
          }
        },
        "a6ff97d847844931b1183ea8b27cd8ae": {
          "model_module": "@jupyter-widgets/controls",
          "model_module_version": "1.5.0",
          "model_name": "HTMLModel",
          "state": {
            "_dom_classes": [],
            "_model_module": "@jupyter-widgets/controls",
            "_model_module_version": "1.5.0",
            "_model_name": "HTMLModel",
            "_view_count": null,
            "_view_module": "@jupyter-widgets/controls",
            "_view_module_version": "1.5.0",
            "_view_name": "HTMLView",
            "description": "",
            "description_tooltip": null,
            "layout": "IPY_MODEL_e695b364674b4487a67e4abbc1864b6b",
            "placeholder": "​",
            "style": "IPY_MODEL_930fbd5f775545a2b776f48e08b6283b",
            "value": "100%"
          }
        },
        "ab006d9313074a56ad5f5e108771ba02": {
          "model_module": "@jupyter-widgets/base",
          "model_module_version": "1.2.0",
          "model_name": "LayoutModel",
          "state": {
            "_model_module": "@jupyter-widgets/base",
            "_model_module_version": "1.2.0",
            "_model_name": "LayoutModel",
            "_view_count": null,
            "_view_module": "@jupyter-widgets/base",
            "_view_module_version": "1.2.0",
            "_view_name": "LayoutView",
            "align_content": null,
            "align_items": null,
            "align_self": null,
            "border": null,
            "bottom": null,
            "display": null,
            "flex": null,
            "flex_flow": null,
            "grid_area": null,
            "grid_auto_columns": null,
            "grid_auto_flow": null,
            "grid_auto_rows": null,
            "grid_column": null,
            "grid_gap": null,
            "grid_row": null,
            "grid_template_areas": null,
            "grid_template_columns": null,
            "grid_template_rows": null,
            "height": null,
            "justify_content": null,
            "justify_items": null,
            "left": null,
            "margin": null,
            "max_height": null,
            "max_width": null,
            "min_height": null,
            "min_width": null,
            "object_fit": null,
            "object_position": null,
            "order": null,
            "overflow": null,
            "overflow_x": null,
            "overflow_y": null,
            "padding": null,
            "right": null,
            "top": null,
            "visibility": null,
            "width": null
          }
        },
        "caeccb5dc54244a5854f9c761e275ef2": {
          "model_module": "@jupyter-widgets/controls",
          "model_module_version": "1.5.0",
          "model_name": "ProgressStyleModel",
          "state": {
            "_model_module": "@jupyter-widgets/controls",
            "_model_module_version": "1.5.0",
            "_model_name": "ProgressStyleModel",
            "_view_count": null,
            "_view_module": "@jupyter-widgets/base",
            "_view_module_version": "1.2.0",
            "_view_name": "StyleView",
            "bar_color": null,
            "description_width": ""
          }
        },
        "e695b364674b4487a67e4abbc1864b6b": {
          "model_module": "@jupyter-widgets/base",
          "model_module_version": "1.2.0",
          "model_name": "LayoutModel",
          "state": {
            "_model_module": "@jupyter-widgets/base",
            "_model_module_version": "1.2.0",
            "_model_name": "LayoutModel",
            "_view_count": null,
            "_view_module": "@jupyter-widgets/base",
            "_view_module_version": "1.2.0",
            "_view_name": "LayoutView",
            "align_content": null,
            "align_items": null,
            "align_self": null,
            "border": null,
            "bottom": null,
            "display": null,
            "flex": null,
            "flex_flow": null,
            "grid_area": null,
            "grid_auto_columns": null,
            "grid_auto_flow": null,
            "grid_auto_rows": null,
            "grid_column": null,
            "grid_gap": null,
            "grid_row": null,
            "grid_template_areas": null,
            "grid_template_columns": null,
            "grid_template_rows": null,
            "height": null,
            "justify_content": null,
            "justify_items": null,
            "left": null,
            "margin": null,
            "max_height": null,
            "max_width": null,
            "min_height": null,
            "min_width": null,
            "object_fit": null,
            "object_position": null,
            "order": null,
            "overflow": null,
            "overflow_x": null,
            "overflow_y": null,
            "padding": null,
            "right": null,
            "top": null,
            "visibility": null,
            "width": null
          }
        }
      }
    }
  },
  "nbformat": 4,
  "nbformat_minor": 0
}

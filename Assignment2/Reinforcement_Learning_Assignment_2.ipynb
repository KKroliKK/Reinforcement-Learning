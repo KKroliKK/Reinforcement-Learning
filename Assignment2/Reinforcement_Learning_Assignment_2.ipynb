{
  "cells": [
    {
      "cell_type": "markdown",
      "metadata": {
        "id": "kr5ohicqUu8J"
      },
      "source": [
        "<h1> Assignment #2 </h1>\n",
        "\n",
        "You have to move several cargos across the gridworld into a common desirable rectangle area. There are several cargos, you can move each of them either horizontally or vertically by one cell up or down. Size of the overall world may vary, as well as placement of the cargos and desirable area. The game ends when all the cargos are in the desirable area and do not overlap.\n",
        "\n",
        "Reward function: \n",
        "* for each cell of cargo placed in desirable area in the end of the turn, reward is $+1$\n",
        "* for each cell where cargos overlap in the end of the turn, reward is $-1$\n",
        "\n",
        "---\n",
        "\n",
        "Submit `{name}_{surname}.zip` file containing:\n",
        "* `{name}_{surname}.ipynb` with code for learning your model using your realisation of environment\n",
        "* `{name}_{surname}.py` script with `complete_task(path_to_infile, path_to_outfile)` function\n",
        "* report `{name}_{surname}.pdf`, containing information on:\n",
        "  * choice of the environment representation used for the model training\n",
        "  * way of training environment generation\n",
        "  * architecture choice for the neural network you use for the prediction"
      ]
    },
    {
      "cell_type": "markdown",
      "metadata": {
        "id": "LcYYDr7kcIam"
      },
      "source": [
        "## Input of the script"
      ]
    },
    {
      "cell_type": "markdown",
      "metadata": {
        "id": "SmbAGt_ldNvo"
      },
      "source": [
        "`{infile}.txt` file with the field description. Elements of the field are separated by space. For example: \n",
        "\n",
        "```\n",
        "0 0 2 2 0\n",
        "0 r r r 0\n",
        "0 r r r 1\n",
        "0 r r r 1\n",
        "0 0 0 0 1\n",
        "```\n",
        "\n",
        "* `0` - blank space, we may move objects here\n",
        "* `r` - desirable area, we should move objects here\n",
        "* `1`, `2`, ... - actual object shapes, does not change, moved as a solid object"
      ]
    },
    {
      "cell_type": "markdown",
      "metadata": {
        "id": "5yMWo5Q2c8W6"
      },
      "source": [
        "In your output file, you have to record lines in the following manner: `{id} {D/U/R/L}`. For the given example, possible sequence of steps is:\n",
        "```\n",
        "2 D\n",
        "1 L\n",
        "1 U\n",
        "2 L\n",
        "```\n",
        "\n",
        "Here the rewards are: \n",
        "1. +2 for 2 cells of `2`\n",
        "2. +4 for 2 cells of `2` and 2 cells of `1`\n",
        "3. +3 (= +4 - 1) for 2 cells of `2` and 2 cells of `1` and -1 overlapping cell \n",
        "4. **The end**"
      ]
    },
    {
      "cell_type": "markdown",
      "metadata": {
        "id": "9xrsmm3XiBtZ"
      },
      "source": [
        "## Output of the script"
      ]
    },
    {
      "cell_type": "markdown",
      "metadata": {
        "id": "_QaxbsfBiHm3"
      },
      "source": [
        "Sequence of actions, written in `{outfile}.txt`. Rewrite it after each 100th action, please, and after you rich the final position."
      ]
    }
  ],
  "metadata": {
    "colab": {
      "provenance": []
    },
    "kernelspec": {
      "display_name": "Python 3.8.8 ('base')",
      "language": "python",
      "name": "python3"
    },
    "language_info": {
      "name": "python",
      "version": "3.8.8 (default, Apr 13 2021, 19:58:26) \n[GCC 7.3.0]"
    },
    "vscode": {
      "interpreter": {
        "hash": "82ca00de6dfeb9e2eef59d83b518ae9b61e5781747466ffa06053c845d8d3ce9"
      }
    }
  },
  "nbformat": 4,
  "nbformat_minor": 0
}

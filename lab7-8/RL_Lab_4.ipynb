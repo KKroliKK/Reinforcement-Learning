{
  "cells": [
    {
      "cell_type": "markdown",
      "metadata": {
        "id": "V8vV9DQLRcMW"
      },
      "source": [
        "# Task"
      ]
    },
    {
      "cell_type": "markdown",
      "metadata": {
        "id": "DSBrSNVPResO"
      },
      "source": [
        "Consider windy gridworld environment. Implement simple SARSA and SARSA($\\lambda$) learning algorithms. Given 100 episodes:\n",
        "\n",
        "1. Compare different values of lambda by the means of total number of actions over 100 episodes.\n",
        "2. Varying $\\alpha$ and $\\lambda$, train SARSA($\\lambda$). Then, stop learning and evaluate the SARSA results several times. Compute average number of performed actions until the end of the episode for each pair of $\\alpha$ and $\\lambda$. Display plots analogous to ones shown in the lecture. "
      ]
    },
    {
      "cell_type": "markdown",
      "metadata": {
        "id": "lVQgSjLmVTaX"
      },
      "source": [
        "# CartPole"
      ]
    },
    {
      "cell_type": "markdown",
      "metadata": {
        "id": "kV_MW7TGbSIp"
      },
      "source": [
        "[Source](https://pytorch.org/tutorials/intermediate/reinforcement_q_learning.html)"
      ]
    },
    {
      "cell_type": "code",
      "execution_count": 1,
      "metadata": {
        "colab": {
          "base_uri": "https://localhost:8080/"
        },
        "id": "rIXD6R-WRdyG",
        "outputId": "0ee52a83-1d20-4105-8f7f-7546fd4d45fe"
      },
      "outputs": [
        {
          "name": "stdout",
          "output_type": "stream",
          "text": [
            "Requirement already satisfied: gym[classic_control] in /home/andrey/anaconda3/lib/python3.8/site-packages (0.26.2)\n",
            "Requirement already satisfied: numpy>=1.18.0 in /home/andrey/anaconda3/lib/python3.8/site-packages (from gym[classic_control]) (1.21.6)\n",
            "Requirement already satisfied: cloudpickle>=1.2.0 in /home/andrey/anaconda3/lib/python3.8/site-packages (from gym[classic_control]) (1.6.0)\n",
            "Requirement already satisfied: importlib-metadata>=4.8.0 in /home/andrey/anaconda3/lib/python3.8/site-packages (from gym[classic_control]) (4.11.3)\n",
            "Requirement already satisfied: gym-notices>=0.0.4 in /home/andrey/anaconda3/lib/python3.8/site-packages (from gym[classic_control]) (0.0.8)\n",
            "Collecting pygame==2.1.0\n",
            "  Downloading pygame-2.1.0-cp38-cp38-manylinux_2_17_x86_64.manylinux2014_x86_64.whl (18.3 MB)\n",
            "\u001b[2K     \u001b[90m━━━━━━━━━━━━━━━━━━━━━━━━━━━━━━━━━━━━━━━━\u001b[0m \u001b[32m18.3/18.3 MB\u001b[0m \u001b[31m2.2 MB/s\u001b[0m eta \u001b[36m0:00:00\u001b[0m00:01\u001b[0m00:01\u001b[0m\n",
            "\u001b[?25hRequirement already satisfied: zipp>=0.5 in /home/andrey/anaconda3/lib/python3.8/site-packages (from importlib-metadata>=4.8.0->gym[classic_control]) (3.8.0)\n",
            "Installing collected packages: pygame\n",
            "Successfully installed pygame-2.1.0\n"
          ]
        }
      ],
      "source": [
        "!pip install gym[classic_control]"
      ]
    },
    {
      "cell_type": "code",
      "execution_count": 2,
      "metadata": {
        "colab": {
          "base_uri": "https://localhost:8080/"
        },
        "id": "j7sM8qyzVSXP",
        "outputId": "9171fd20-3d15-49e3-9f1c-cc19ecb29a00"
      },
      "outputs": [
        {
          "name": "stderr",
          "output_type": "stream",
          "text": [
            "/home/andrey/anaconda3/lib/python3.8/site-packages/gym/envs/registration.py:555: UserWarning: \u001b[33mWARN: The environment CartPole-v0 is out of date. You should consider upgrading to version `v1`.\u001b[0m\n",
            "  logger.warn(\n"
          ]
        }
      ],
      "source": [
        "import gym\n",
        "import math\n",
        "import random\n",
        "import numpy as np\n",
        "import matplotlib\n",
        "import matplotlib.pyplot as plt\n",
        "from collections import namedtuple, deque\n",
        "from itertools import count\n",
        "from PIL import Image\n",
        "\n",
        "import torch\n",
        "import torch.nn as nn\n",
        "import torch.optim as optim\n",
        "import torch.nn.functional as F\n",
        "import torchvision.transforms as T\n",
        "\n",
        "\n",
        "if gym.__version__ < '0.26':\n",
        "    env = gym.make('CartPole-v0', new_step_api=True, render_mode='single_rgb_array').unwrapped\n",
        "else:\n",
        "    env = gym.make('CartPole-v0', render_mode='rgb_array').unwrapped\n",
        "\n",
        "# set up matplotlib\n",
        "is_ipython = 'inline' in matplotlib.get_backend()\n",
        "if is_ipython:\n",
        "    from IPython import display\n",
        "\n",
        "plt.ion()\n",
        "\n",
        "# if gpu is to be used\n",
        "device = torch.device(\"cuda\" if torch.cuda.is_available() else \"cpu\")"
      ]
    },
    {
      "cell_type": "markdown",
      "metadata": {
        "id": "Nl2UTYA2V1YX"
      },
      "source": [
        "Class for saving actions:"
      ]
    },
    {
      "cell_type": "code",
      "execution_count": 3,
      "metadata": {
        "id": "3GbGONU2ViTg"
      },
      "outputs": [],
      "source": [
        "Transition = namedtuple('Transition',\n",
        "                        ('state', 'action', 'next_state', 'reward'))\n",
        "\n",
        "\n",
        "class ReplayMemory(object):\n",
        "\n",
        "    def __init__(self, capacity):\n",
        "        self.memory = deque([],maxlen=capacity)\n",
        "\n",
        "    def push(self, *args):\n",
        "        \"\"\"Save a transition\"\"\"\n",
        "        self.memory.append(Transition(*args))\n",
        "\n",
        "    def sample(self, batch_size):\n",
        "        return random.sample(self.memory, batch_size)\n",
        "\n",
        "    def __len__(self):\n",
        "        return len(self.memory)"
      ]
    },
    {
      "cell_type": "markdown",
      "metadata": {
        "id": "4TZPAoDGVyXn"
      },
      "source": [
        "Neural Network:"
      ]
    },
    {
      "cell_type": "code",
      "execution_count": 4,
      "metadata": {
        "id": "WeXWE0rnVsb_"
      },
      "outputs": [],
      "source": [
        "class DQN(nn.Module):\n",
        "\n",
        "    def __init__(self, h, w, outputs):\n",
        "        super(DQN, self).__init__()\n",
        "        self.conv1 = nn.Conv2d(3, 16, kernel_size=5, stride=2)\n",
        "        self.bn1 = nn.BatchNorm2d(16)\n",
        "        self.conv2 = nn.Conv2d(16, 32, kernel_size=5, stride=2)\n",
        "        self.bn2 = nn.BatchNorm2d(32)\n",
        "        self.conv3 = nn.Conv2d(32, 32, kernel_size=5, stride=2)\n",
        "        self.bn3 = nn.BatchNorm2d(32)\n",
        "\n",
        "        # Number of Linear input connections depends on output of conv2d layers\n",
        "        # and therefore the input image size, so compute it.\n",
        "        def conv2d_size_out(size, kernel_size = 5, stride = 2):\n",
        "            return (size - (kernel_size - 1) - 1) // stride  + 1\n",
        "        convw = conv2d_size_out(conv2d_size_out(conv2d_size_out(w)))\n",
        "        convh = conv2d_size_out(conv2d_size_out(conv2d_size_out(h)))\n",
        "        linear_input_size = convw * convh * 32\n",
        "        self.head = nn.Linear(linear_input_size, outputs)\n",
        "\n",
        "    # Called with either one element to determine next action, or a batch\n",
        "    # during optimization. Returns tensor([[left0exp,right0exp]...]).\n",
        "    def forward(self, x):\n",
        "        x = x.to(device)\n",
        "        x = F.relu(self.bn1(self.conv1(x)))\n",
        "        x = F.relu(self.bn2(self.conv2(x)))\n",
        "        x = F.relu(self.bn3(self.conv3(x)))\n",
        "        return self.head(x.view(x.size(0), -1))\n"
      ]
    },
    {
      "cell_type": "code",
      "execution_count": 5,
      "metadata": {
        "colab": {
          "base_uri": "https://localhost:8080/",
          "height": 270
        },
        "id": "1PqCP-HjVxuq",
        "outputId": "1c2c1286-32f3-4adf-da16-21cabcfe4f9c"
      },
      "outputs": [
        {
          "name": "stderr",
          "output_type": "stream",
          "text": [
            "/tmp/ipykernel_13181/2329790446.py:2: DeprecationWarning: CUBIC is deprecated and will be removed in Pillow 10 (2023-07-01). Use Resampling.BICUBIC instead.\n",
            "  T.Resize(40, interpolation=Image.CUBIC),\n",
            "/home/andrey/anaconda3/lib/python3.8/site-packages/torchvision/transforms/transforms.py:332: UserWarning: Argument 'interpolation' of type int is deprecated since 0.13 and will be removed in 0.15. Please use InterpolationMode enum.\n",
            "  warnings.warn(\n"
          ]
        },
        {
          "data": {
            "image/png": "[encoded data removed]",
            "text/plain": [
              "<Figure size 432x288 with 1 Axes>"
            ]
          },
          "metadata": {
            "needs_background": "light"
          },
          "output_type": "display_data"
        }
      ],
      "source": [
        "resize = T.Compose([T.ToPILImage(),\n",
        "                    T.Resize(40, interpolation=Image.CUBIC),\n",
        "                    T.ToTensor()])\n",
        "\n",
        "\n",
        "def get_cart_location(screen_width):\n",
        "    world_width = env.x_threshold * 2\n",
        "    scale = screen_width / world_width\n",
        "    return int(env.state[0] * scale + screen_width / 2.0)  # MIDDLE OF CART\n",
        "\n",
        "def get_screen():\n",
        "    # Returned screen requested by gym is 400x600x3, but is sometimes larger\n",
        "    # such as 800x1200x3. Transpose it into torch order (CHW).\n",
        "    screen = env.render().transpose((2, 0, 1))\n",
        "    # Cart is in the lower half, so strip off the top and bottom of the screen\n",
        "    _, screen_height, screen_width = screen.shape\n",
        "    screen = screen[:, int(screen_height*0.4):int(screen_height * 0.8)]\n",
        "    view_width = int(screen_width * 0.6)\n",
        "    cart_location = get_cart_location(screen_width)\n",
        "    if cart_location < view_width // 2:\n",
        "        slice_range = slice(view_width)\n",
        "    elif cart_location > (screen_width - view_width // 2):\n",
        "        slice_range = slice(-view_width, None)\n",
        "    else:\n",
        "        slice_range = slice(cart_location - view_width // 2,\n",
        "                            cart_location + view_width // 2)\n",
        "    # Strip off the edges, so that we have a square image centered on a cart\n",
        "    screen = screen[:, :, slice_range]\n",
        "    # Convert to float, rescale, convert to torch tensor\n",
        "    # (this doesn't require a copy)\n",
        "    screen = np.ascontiguousarray(screen, dtype=np.float32) / 255\n",
        "    screen = torch.from_numpy(screen)\n",
        "    # Resize, and add a batch dimension (BCHW)\n",
        "    return resize(screen).unsqueeze(0)\n",
        "\n",
        "\n",
        "env.reset()\n",
        "plt.figure()\n",
        "plt.imshow(get_screen().cpu().squeeze(0).permute(1, 2, 0).numpy(),\n",
        "           interpolation='none')\n",
        "plt.title('Example extracted screen')\n",
        "plt.show()"
      ]
    },
    {
      "cell_type": "code",
      "execution_count": 6,
      "metadata": {
        "id": "uJE53fSvV-F2"
      },
      "outputs": [],
      "source": [
        "BATCH_SIZE = 128\n",
        "GAMMA = 0.999\n",
        "EPS_START = 0.9\n",
        "EPS_END = 0.05\n",
        "EPS_DECAY = 200\n",
        "TARGET_UPDATE = 10\n",
        "\n",
        "# Get screen size so that we can initialize layers correctly based on shape\n",
        "# returned from AI gym. Typical dimensions at this point are close to 3x40x90\n",
        "# which is the result of a clamped and down-scaled render buffer in get_screen()\n",
        "init_screen = get_screen()\n",
        "_, _, screen_height, screen_width = init_screen.shape\n",
        "\n",
        "# Get number of actions from gym action space\n",
        "n_actions = env.action_space.n\n",
        "\n",
        "policy_net = DQN(screen_height, screen_width, n_actions).to(device)\n",
        "target_net = DQN(screen_height, screen_width, n_actions).to(device)\n",
        "target_net.load_state_dict(policy_net.state_dict())\n",
        "target_net.eval()\n",
        "\n",
        "optimizer = optim.RMSprop(policy_net.parameters())\n",
        "memory = ReplayMemory(10000)\n",
        "\n",
        "steps_done = 0\n",
        "\n",
        "\n",
        "def select_action(state):\n",
        "    global steps_done\n",
        "    sample = random.random()\n",
        "    eps_threshold = EPS_END + (EPS_START - EPS_END) * \\\n",
        "        math.exp(-1. * steps_done / EPS_DECAY)\n",
        "    steps_done += 1\n",
        "    if sample > eps_threshold:\n",
        "        with torch.no_grad():\n",
        "            # t.max(1) will return largest column value of each row.\n",
        "            # second column on max result is index of where max element was\n",
        "            # found, so we pick action with the larger expected reward.\n",
        "            return policy_net(state).max(1)[1].view(1, 1)\n",
        "    else:\n",
        "        return torch.tensor([[random.randrange(n_actions)]], device=device, dtype=torch.long)\n",
        "\n",
        "\n",
        "episode_durations = []\n",
        "\n",
        "\n",
        "def plot_durations():\n",
        "    plt.figure(2)\n",
        "    plt.clf()\n",
        "    durations_t = torch.tensor(episode_durations, dtype=torch.float)\n",
        "    plt.title('Training...')\n",
        "    plt.xlabel('Episode')\n",
        "    plt.ylabel('Duration')\n",
        "    plt.plot(durations_t.numpy())\n",
        "    # Take 100 episode averages and plot them too\n",
        "    if len(durations_t) >= 100:\n",
        "        means = durations_t.unfold(0, 100, 1).mean(1).view(-1)\n",
        "        means = torch.cat((torch.zeros(99), means))\n",
        "        plt.plot(means.numpy())"
      ]
    },
    {
      "cell_type": "code",
      "execution_count": 7,
      "metadata": {
        "id": "KJ801jUBWsAX"
      },
      "outputs": [],
      "source": [
        "def optimize_model():\n",
        "    if len(memory) < BATCH_SIZE:\n",
        "        return\n",
        "    transitions = memory.sample(BATCH_SIZE)\n",
        "    # Transpose the batch (see https://stackoverflow.com/a/19343/3343043 for\n",
        "    # detailed explanation). This converts batch-array of Transitions\n",
        "    # to Transition of batch-arrays.\n",
        "    batch = Transition(*zip(*transitions))\n",
        "\n",
        "    # Compute a mask of non-final states and concatenate the batch elements\n",
        "    # (a final state would've been the one after which simulation ended)\n",
        "    non_final_mask = torch.tensor(tuple(map(lambda s: s is not None,\n",
        "                                          batch.next_state)), device=device, dtype=torch.bool)\n",
        "    non_final_next_states = torch.cat([s for s in batch.next_state\n",
        "                                                if s is not None])\n",
        "    state_batch = torch.cat(batch.state)\n",
        "    action_batch = torch.cat(batch.action)\n",
        "    reward_batch = torch.cat(batch.reward)\n",
        "\n",
        "    # Compute Q(s_t, a) - the model computes Q(s_t), then we select the\n",
        "    # columns of actions taken. These are the actions which would've been taken\n",
        "    # for each batch state according to policy_net\n",
        "    state_action_values = policy_net(state_batch).gather(1, action_batch)\n",
        "\n",
        "    # Compute V(s_{t+1}) for all next states.\n",
        "    # Expected values of actions for non_final_next_states are computed based\n",
        "    # on the \"older\" target_net; selecting their best reward with max(1)[0].\n",
        "    # This is merged based on the mask, such that we'll have either the expected\n",
        "    # state value or 0 in case the state was final.\n",
        "    next_state_values = torch.zeros(BATCH_SIZE, device=device)\n",
        "    next_state_values[non_final_mask] = target_net(non_final_next_states).max(1)[0].detach()\n",
        "    # Compute the expected Q values\n",
        "    expected_state_action_values = (next_state_values * GAMMA) + reward_batch\n",
        "\n",
        "    # Compute Huber loss\n",
        "    criterion = nn.SmoothL1Loss()\n",
        "    loss = criterion(state_action_values, expected_state_action_values.unsqueeze(1))\n",
        "\n",
        "    # Optimize the model\n",
        "    optimizer.zero_grad()\n",
        "    loss.backward()\n",
        "    for param in policy_net.parameters():\n",
        "        param.grad.data.clamp_(-1, 1)\n",
        "    optimizer.step()"
      ]
    },
    {
      "cell_type": "code",
      "execution_count": 8,
      "metadata": {
        "colab": {
          "base_uri": "https://localhost:8080/",
          "height": 345,
          "referenced_widgets": [
            "0f1ef1b87d1149d69dac640763f47c8a",
            "2f7d5a7f599b497eb342474f61a9a9f2",
            "88f4b4449c9c49399a331addbd0ca7de",
            "3de34baa4cb443fa8cfd747426562656",
            "987947f053b04132a95c70a3f1df0ee6",
            "4fcf6d59ac4945ae9d269783ee4cc5a2",
            "8255528874554d23b915966d4cc433fd",
            "a2e13b7539e0454da609135324c55be3",
            "dbea9f687bf74783819c9382013d7b82",
            "1ae6ce5958254645acf42a3b752bda4d",
            "10ff52ab06324c0881c0bc72ec2eaf6b"
          ]
        },
        "id": "LJbM73h6WOd6",
        "outputId": "cf899f30-06dd-483b-ee4b-e3efc7d8578c"
      },
      "outputs": [
        {
          "data": {
            "application/vnd.jupyter.widget-view+json": {
              "model_id": "cc52a90bc2384fcd937dbe26d0354ad3",
              "version_major": 2,
              "version_minor": 0
            },
            "text/plain": [
              "  0%|          | 0/500 [00:00<?, ?it/s]"
            ]
          },
          "metadata": {},
          "output_type": "display_data"
        },
        {
          "name": "stdout",
          "output_type": "stream",
          "text": [
            "Complete\n"
          ]
        },
        {
          "data": {
            "image/png": "[encoded data removed]",
            "text/plain": [
              "<Figure size 432x288 with 1 Axes>"
            ]
          },
          "metadata": {
            "needs_background": "light"
          },
          "output_type": "display_data"
        }
      ],
      "source": [
        "from tqdm.auto import tqdm\n",
        "\n",
        "num_episodes = 500\n",
        "for i_episode in tqdm(range(num_episodes)):\n",
        "    # Initialize the environment and state\n",
        "    env.reset()\n",
        "    last_screen = get_screen()\n",
        "    current_screen = get_screen()\n",
        "    state = current_screen - last_screen\n",
        "    for t in count():\n",
        "        # Select and perform an action\n",
        "        action = select_action(state)\n",
        "        _, reward, done, _, _ = env.step(action.item())\n",
        "        reward = torch.tensor([reward], device=device)\n",
        "\n",
        "        # Observe new state\n",
        "        last_screen = current_screen\n",
        "        current_screen = get_screen()\n",
        "        if not done:\n",
        "            next_state = current_screen - last_screen\n",
        "        else:\n",
        "            next_state = None\n",
        "\n",
        "        # Store the transition in memory\n",
        "        memory.push(state, action, next_state, reward)\n",
        "\n",
        "        # Move to the next state\n",
        "        state = next_state\n",
        "\n",
        "        # Perform one step of the optimization (on the policy network)\n",
        "        optimize_model()\n",
        "        if done:\n",
        "            episode_durations.append(t + 1)\n",
        "            plot_durations()\n",
        "            break\n",
        "\n",
        "        # Update the target network, copying all weights and biases in DQN\n",
        "        if t % TARGET_UPDATE == 0:\n",
        "            target_net.load_state_dict(policy_net.state_dict())\n",
        "\n",
        "print('Complete')\n",
        "env.render()\n",
        "env.close()\n",
        "plt.ioff()\n",
        "plt.show()"
      ]
    },
    {
      "cell_type": "markdown",
      "metadata": {},
      "source": [
        "# Windy GridWorld"
      ]
    },
    {
      "cell_type": "code",
      "execution_count": 37,
      "metadata": {},
      "outputs": [],
      "source": [
        "import time"
      ]
    },
    {
      "cell_type": "code",
      "execution_count": 21,
      "metadata": {},
      "outputs": [],
      "source": [
        "class GridWorld(object):\n",
        "    \n",
        "    def __init__(self):\n",
        "        super(GridWorld, self).__init__()\n",
        "        self.start = 0\n",
        "        self.goal = 0\n",
        "        \n",
        "        # Provide the setting of gridWorld rows and columns\n",
        "        self.row = 7\n",
        "        self.col = 10\n",
        "        self.x_max = self.col - 1\n",
        "        self.y_max = self.row - 1\n",
        "\n",
        "        # Declare windy columns and their effect\n",
        "        self.wind_1 = [3, 4, 5, 8]\n",
        "        self.wind_2 = [6, 7]\n",
        "        \n",
        "        # Provide action list : Up/Down/Left/Right\n",
        "        self.actions_list = ['N', 'E', 'S', 'W']\n",
        "      \n",
        "    # here, cells defined by index\n",
        "    def cell(self,pos):\n",
        "        return pos[1] + self.col * pos[0]\n",
        "    \n",
        "    def setTerminal(self, startState, goalState):\n",
        "        # startState and goalState are tuples\n",
        "        self.start = self.cell(startState)\n",
        "        self.goal = self.cell(goalState)\n",
        "        \n",
        "    def nextState(self, state, action):\n",
        "        # The \"state\" parameter is an integer that represents position in grid\n",
        "        x = state % self.col\n",
        "        y = (state - x) / self.col\n",
        "\n",
        "        # Now let's define and interpret actions\n",
        "        del_x = 0\n",
        "        del_y = 0\n",
        "        if action == 'E':\n",
        "            del_x = 1\n",
        "        elif action == 'W':\n",
        "            del_x = -1\n",
        "        elif action == 'N':\n",
        "            del_y = -1\n",
        "        elif action == 'S':\n",
        "            del_y = 1\n",
        "        else:\n",
        "            raise('Invalid action! Actions taken must be in: ', self.actions_list)\n",
        "\n",
        "        # Now move to new position\n",
        "        new_x = max(0, min(x + del_x, self.x_max))\n",
        "        new_y = max(0, min(y + del_y, self.y_max))\n",
        "        \n",
        "        # When wind blows to a new state\n",
        "        if new_x in self.wind_1:\n",
        "            new_y = max(0, new_y - 1)\n",
        "        if new_x in self.wind_2:\n",
        "            new_y = max(0, new_y - 2)\n",
        "        \n",
        "        # now let's return these new state values\n",
        "        return self.cell((new_y,new_x))\n",
        "    \n",
        "    def checkTerminal(self, state):\n",
        "        return state == self.goal\n",
        "    \n",
        "    def rewardFunction(self, state_prime):\n",
        "        # When it reaches terminal state then reward is 0 else all actions should yield -1\n",
        "        if self.checkTerminal(state_prime):\n",
        "            return 0\n",
        "        else:\n",
        "            return -1"
      ]
    },
    {
      "cell_type": "code",
      "execution_count": 22,
      "metadata": {},
      "outputs": [],
      "source": [
        "def trajectoryPath(world, traj):\n",
        "    # Initialize gridworld\n",
        "    world_map = np.zeros((world.row, world.col))\n",
        "    for i,state in enumerate(traj):\n",
        "        x = int(state % world.col)\n",
        "        y = int((state - x) / world.col)\n",
        "        world_map[y, x] = i + 1\n",
        "    print(world_map)\n",
        "    print(\"\\n\")"
      ]
    },
    {
      "cell_type": "markdown",
      "metadata": {},
      "source": [
        "## SARSA"
      ]
    },
    {
      "cell_type": "code",
      "execution_count": 23,
      "metadata": {},
      "outputs": [],
      "source": [
        "# function for greedy action\n",
        "def greedyAct(_q_dict):\n",
        "    greedy_act = ''\n",
        "    max_q = -1e10\n",
        "    for act in world.actions_list:\n",
        "        if _q_dict[act] > max_q:\n",
        "            greedy_act = act\n",
        "            max_q = _q_dict[act]\n",
        "    return greedy_act\n",
        "\n",
        "# function for epsilon-greedy action\n",
        "def epsGreedy(episode, q_dict, epsilon):\n",
        "    \n",
        "    m = len(world.actions_list)\n",
        "    greedy_act = greedyAct(q_dict)\n",
        "\n",
        "    # strange implementation; today you will see better ones\n",
        "    p = []\n",
        "    for act in world.actions_list:\n",
        "        if act == greedy_act:\n",
        "            p.append((epsilon * 1. / m) + 1 - epsilon)\n",
        "        else:\n",
        "            p.append(epsilon * 1. / m)\n",
        "\n",
        "    # choose one action given proba\n",
        "    choice = np.random.choice(world.actions_list, size = 1, p = p)\n",
        "    return choice[0]"
      ]
    },
    {
      "cell_type": "code",
      "execution_count": 33,
      "metadata": {},
      "outputs": [],
      "source": [
        "def gridWorld_SARSA(world, startState, goalState, alpha=0.1, gamma=1, epsilon=0.1):\n",
        "    # Consider input parameters:\n",
        "    # gamma = 1 as discounted factor\n",
        "    # default values of alpha and epsilon considered, it will be changed for multiple analysis\n",
        "    world.setTerminal(startState, goalState)\n",
        "    \n",
        "    # Initialize Q(s,a)\n",
        "    q_table = {}\n",
        "    for state in range(world.row * world.col):\n",
        "        q_table[state] = {}\n",
        "        for act in world.actions_list:\n",
        "            q_table[state][act] = 0\n",
        "    \n",
        "    ep = 1 # Episode number\n",
        "    ep_max = 100 # number of max episodes\n",
        "    step_ep_list = []\n",
        "    step = 0\n",
        "\n",
        "    # strange implementation\n",
        "    while ep <= ep_max:\n",
        "\n",
        "        # Initialize state\n",
        "        state = world.cell(startState)\n",
        "        trajectory = [state]\n",
        "        \n",
        "        # Choose action from state\n",
        "        act = epsGreedy(ep, q_table[state], epsilon)\n",
        "\n",
        "        # Processing action\n",
        "        while not world.checkTerminal(state):\n",
        "            state_prime = world.nextState(state, act)\n",
        "            reward = world.rewardFunction(state_prime)\n",
        "            act_prime = epsGreedy(ep, q_table[state_prime], epsilon)\n",
        "            # what's wrong with it?\n",
        "            q_table[state][act] += alpha * (reward + gamma * q_table[state_prime][act_prime] - q_table[state][act])\n",
        "            state = state_prime\n",
        "            act = act_prime\n",
        "\n",
        "            # Increase Step Counter\n",
        "            step += 1\n",
        "            \n",
        "            # Store the index of the episode of this time step\n",
        "            step_ep_list.append(ep)\n",
        "            \n",
        "            # Update the trajectory\n",
        "            trajectory.append(state)\n",
        "        \n",
        "        if ep == (ep_max - 1):\n",
        "            trajectoryPath(world, trajectory)\n",
        "        # Increase the episode counter\n",
        "        ep += 1\n",
        "    \n",
        "    start_time = time.time()\n",
        "    plt.plot(step_ep_list)\n",
        "    print(\"Time elapsed is (in Secs): \", time.time() - start_time)\n",
        "    plt.title('WindyGridWorld_SARSA ', fontsize = 'large')\n",
        "    plt.xlabel(\"Number of Steps taken\")\n",
        "    plt.ylabel(\"Number of Episodes\")\n",
        "    plt.show()"
      ]
    },
    {
      "cell_type": "markdown",
      "metadata": {},
      "source": [
        "## SARSA experments"
      ]
    },
    {
      "cell_type": "code",
      "execution_count": 34,
      "metadata": {},
      "outputs": [
        {
          "name": "stdout",
          "output_type": "stream",
          "text": [
            "Plot for Option: ∈=0.1, α=0.5 \n",
            "\n",
            "[[ 0.  0.  0.  0.  7.  8. 10. 11. 12. 14.]\n",
            " [ 0.  0.  0.  6.  0.  0.  0.  0.  0. 15.]\n",
            " [ 0.  4.  5.  0.  0.  0.  0.  0.  0. 16.]\n",
            " [ 2.  3.  0.  0.  0.  0.  0. 22.  0. 17.]\n",
            " [ 0.  0.  0.  0.  0.  0.  0.  0.  0. 18.]\n",
            " [ 0.  0.  0.  0.  0.  0.  0.  0. 21. 19.]\n",
            " [ 0.  0.  0.  0.  0.  0.  0.  0.  0. 20.]]\n",
            "\n",
            "\n",
            "Time elapsed is (in Secs):  0.012273788452148438\n"
          ]
        },
        {
          "data": {
            "image/png": "[encoded data removed]",
            "text/plain": [
              "<Figure size 432x288 with 1 Axes>"
            ]
          },
          "metadata": {
            "needs_background": "light"
          },
          "output_type": "display_data"
        }
      ],
      "source": [
        "startState = (3, 0)\n",
        "goalState = (3, 7)\n",
        "world = GridWorld()\n",
        "print(\"Plot for Option: ∈=0.1, α=0.5 \\n\")\n",
        "gridWorld_SARSA(world, startState, goalState, alpha=0.5, epsilon=0.1)"
      ]
    },
    {
      "cell_type": "code",
      "execution_count": 35,
      "metadata": {},
      "outputs": [
        {
          "name": "stdout",
          "output_type": "stream",
          "text": [
            "Plot for Option: ∈=0.2, α=0.1 \n",
            "\n",
            "[[ 0.  0.  0.  0.  0.  0. 19. 20. 21. 22.]\n",
            " [ 0.  0.  0.  0.  0.  0. 13.  0.  0. 23.]\n",
            " [ 0.  0.  0.  0.  0.  0.  0.  0.  0. 24.]\n",
            " [ 1.  0.  0.  0.  0. 12.  0. 31.  0. 25.]\n",
            " [ 2.  0.  0.  0. 11.  0.  0.  0.  0. 26.]\n",
            " [ 3.  0.  0. 10.  0.  0.  0.  0. 30. 27.]\n",
            " [ 4.  5.  7.  0.  0.  0.  0.  0.  0. 29.]]\n",
            "\n",
            "\n",
            "Time elapsed is (in Secs):  0.016608476638793945\n"
          ]
        },
        {
          "data": {
            "image/png": "[encoded data removed]",
            "text/plain": [
              "<Figure size 432x288 with 1 Axes>"
            ]
          },
          "metadata": {
            "needs_background": "light"
          },
          "output_type": "display_data"
        }
      ],
      "source": [
        "world = GridWorld()\n",
        "print(\"Plot for Option: ∈=0.2, α=0.1 \\n\")\n",
        "gridWorld_SARSA(world, startState, goalState, alpha=0.1, epsilon=0.2)"
      ]
    },
    {
      "cell_type": "code",
      "execution_count": 36,
      "metadata": {},
      "outputs": [
        {
          "name": "stdout",
          "output_type": "stream",
          "text": [
            "Plot for Option: ∈=0.05, α=0.2 \n",
            "\n",
            "[[ 0.  0.  0.  0.  0. 15. 16. 17. 18. 19.]\n",
            " [ 0.  0.  0.  0.  0.  0.  0.  0.  0. 20.]\n",
            " [ 0.  0.  0.  0.  0. 14.  0.  0.  0. 21.]\n",
            " [ 1.  2.  3.  0. 11.  0.  0. 27.  0. 22.]\n",
            " [ 0.  5.  4.  8.  0.  0.  0.  0.  0. 23.]\n",
            " [ 0.  6.  7.  0.  0.  0.  0.  0. 26. 24.]\n",
            " [ 0.  0.  0.  0.  0.  0.  0.  0.  0. 25.]]\n",
            "\n",
            "\n",
            "Time elapsed is (in Secs):  0.011982917785644531\n"
          ]
        },
        {
          "data": {
            "image/png": "[encoded data removed]",
            "text/plain": [
              "<Figure size 432x288 with 1 Axes>"
            ]
          },
          "metadata": {
            "needs_background": "light"
          },
          "output_type": "display_data"
        }
      ],
      "source": [
        "world = GridWorld()\n",
        "print(\"Plot for Option: ∈=0.05, α=0.2 \\n\")\n",
        "gridWorld_SARSA(world, startState, goalState, alpha=0.2, epsilon=0.05)"
      ]
    },
    {
      "cell_type": "code",
      "execution_count": 38,
      "metadata": {},
      "outputs": [
        {
          "name": "stdout",
          "output_type": "stream",
          "text": [
            "Plot for Option: ∈=0.05, α=0.2 \n",
            "\n",
            "[[ 0.  0. 24. 23.  0.  0.  0. 43. 46. 47.]\n",
            " [11. 26. 25.  0.  0.  0. 42.  0.  0. 48.]\n",
            " [12. 29. 30. 20.  0.  0.  0.  0.  0. 49.]\n",
            " [17. 28. 31.  0.  0. 41.  0. 55.  0. 50.]\n",
            " [16.  0. 32.  0. 38.  0.  0.  0.  0. 51.]\n",
            " [ 0.  0. 33. 37.  0.  0.  0.  0. 54. 52.]\n",
            " [ 0.  0. 36.  0.  0.  0.  0.  0.  0. 53.]]\n",
            "\n",
            "\n",
            "Time elapsed is (in Secs):  0.0336306095123291\n"
          ]
        },
        {
          "data": {
            "image/png": "[encoded data removed]",
            "text/plain": [
              "<Figure size 432x288 with 1 Axes>"
            ]
          },
          "metadata": {
            "needs_background": "light"
          },
          "output_type": "display_data"
        }
      ],
      "source": [
        "world = GridWorld()\n",
        "print(\"Plot for Option: ∈=0.05, α=0.2 \\n\")\n",
        "gridWorld_SARSA(world, startState, goalState, alpha=0.1, epsilon=0.05)"
      ]
    }
  ],
  "metadata": {
    "accelerator": "GPU",
    "colab": {
      "provenance": []
    },
    "gpuClass": "standard",
    "kernelspec": {
      "display_name": "Python 3.8.8 ('base')",
      "language": "python",
      "name": "python3"
    },
    "language_info": {
      "codemirror_mode": {
        "name": "ipython",
        "version": 3
      },
      "file_extension": ".py",
      "mimetype": "text/x-python",
      "name": "python",
      "nbconvert_exporter": "python",
      "pygments_lexer": "ipython3",
      "version": "3.8.8"
    },
    "vscode": {
      "interpreter": {
        "hash": "82ca00de6dfeb9e2eef59d83b518ae9b61e5781747466ffa06053c845d8d3ce9"
      }
    },
    "widgets": {
      "application/vnd.jupyter.widget-state+json": {
        "0f1ef1b87d1149d69dac640763f47c8a": {
          "model_module": "@jupyter-widgets/controls",
          "model_module_version": "1.5.0",
          "model_name": "HBoxModel",
          "state": {
            "_dom_classes": [],
            "_model_module": "@jupyter-widgets/controls",
            "_model_module_version": "1.5.0",
            "_model_name": "HBoxModel",
            "_view_count": null,
            "_view_module": "@jupyter-widgets/controls",
            "_view_module_version": "1.5.0",
            "_view_name": "HBoxView",
            "box_style": "",
            "children": [
              "IPY_MODEL_2f7d5a7f599b497eb342474f61a9a9f2",
              "IPY_MODEL_88f4b4449c9c49399a331addbd0ca7de",
              "IPY_MODEL_3de34baa4cb443fa8cfd747426562656"
            ],
            "layout": "IPY_MODEL_987947f053b04132a95c70a3f1df0ee6"
          }
        },
        "10ff52ab06324c0881c0bc72ec2eaf6b": {
          "model_module": "@jupyter-widgets/controls",
          "model_module_version": "1.5.0",
          "model_name": "DescriptionStyleModel",
          "state": {
            "_model_module": "@jupyter-widgets/controls",
            "_model_module_version": "1.5.0",
            "_model_name": "DescriptionStyleModel",
            "_view_count": null,
            "_view_module": "@jupyter-widgets/base",
            "_view_module_version": "1.2.0",
            "_view_name": "StyleView",
            "description_width": ""
          }
        },
        "1ae6ce5958254645acf42a3b752bda4d": {
          "model_module": "@jupyter-widgets/base",
          "model_module_version": "1.2.0",
          "model_name": "LayoutModel",
          "state": {
            "_model_module": "@jupyter-widgets/base",
            "_model_module_version": "1.2.0",
            "_model_name": "LayoutModel",
            "_view_count": null,
            "_view_module": "@jupyter-widgets/base",
            "_view_module_version": "1.2.0",
            "_view_name": "LayoutView",
            "align_content": null,
            "align_items": null,
            "align_self": null,
            "border": null,
            "bottom": null,
            "display": null,
            "flex": null,
            "flex_flow": null,
            "grid_area": null,
            "grid_auto_columns": null,
            "grid_auto_flow": null,
            "grid_auto_rows": null,
            "grid_column": null,
            "grid_gap": null,
            "grid_row": null,
            "grid_template_areas": null,
            "grid_template_columns": null,
            "grid_template_rows": null,
            "height": null,
            "justify_content": null,
            "justify_items": null,
            "left": null,
            "margin": null,
            "max_height": null,
            "max_width": null,
            "min_height": null,
            "min_width": null,
            "object_fit": null,
            "object_position": null,
            "order": null,
            "overflow": null,
            "overflow_x": null,
            "overflow_y": null,
            "padding": null,
            "right": null,
            "top": null,
            "visibility": null,
            "width": null
          }
        },
        "2f7d5a7f599b497eb342474f61a9a9f2": {
          "model_module": "@jupyter-widgets/controls",
          "model_module_version": "1.5.0",
          "model_name": "HTMLModel",
          "state": {
            "_dom_classes": [],
            "_model_module": "@jupyter-widgets/controls",
            "_model_module_version": "1.5.0",
            "_model_name": "HTMLModel",
            "_view_count": null,
            "_view_module": "@jupyter-widgets/controls",
            "_view_module_version": "1.5.0",
            "_view_name": "HTMLView",
            "description": "",
            "description_tooltip": null,
            "layout": "IPY_MODEL_4fcf6d59ac4945ae9d269783ee4cc5a2",
            "placeholder": "​",
            "style": "IPY_MODEL_8255528874554d23b915966d4cc433fd",
            "value": "100%"
          }
        },
        "3de34baa4cb443fa8cfd747426562656": {
          "model_module": "@jupyter-widgets/controls",
          "model_module_version": "1.5.0",
          "model_name": "HTMLModel",
          "state": {
            "_dom_classes": [],
            "_model_module": "@jupyter-widgets/controls",
            "_model_module_version": "1.5.0",
            "_model_name": "HTMLModel",
            "_view_count": null,
            "_view_module": "@jupyter-widgets/controls",
            "_view_module_version": "1.5.0",
            "_view_name": "HTMLView",
            "description": "",
            "description_tooltip": null,
            "layout": "IPY_MODEL_1ae6ce5958254645acf42a3b752bda4d",
            "placeholder": "​",
            "style": "IPY_MODEL_10ff52ab06324c0881c0bc72ec2eaf6b",
            "value": " 500/500 [04:23&lt;00:00,  3.46it/s]"
          }
        },
        "4fcf6d59ac4945ae9d269783ee4cc5a2": {
          "model_module": "@jupyter-widgets/base",
          "model_module_version": "1.2.0",
          "model_name": "LayoutModel",
          "state": {
            "_model_module": "@jupyter-widgets/base",
            "_model_module_version": "1.2.0",
            "_model_name": "LayoutModel",
            "_view_count": null,
            "_view_module": "@jupyter-widgets/base",
            "_view_module_version": "1.2.0",
            "_view_name": "LayoutView",
            "align_content": null,
            "align_items": null,
            "align_self": null,
            "border": null,
            "bottom": null,
            "display": null,
            "flex": null,
            "flex_flow": null,
            "grid_area": null,
            "grid_auto_columns": null,
            "grid_auto_flow": null,
            "grid_auto_rows": null,
            "grid_column": null,
            "grid_gap": null,
            "grid_row": null,
            "grid_template_areas": null,
            "grid_template_columns": null,
            "grid_template_rows": null,
            "height": null,
            "justify_content": null,
            "justify_items": null,
            "left": null,
            "margin": null,
            "max_height": null,
            "max_width": null,
            "min_height": null,
            "min_width": null,
            "object_fit": null,
            "object_position": null,
            "order": null,
            "overflow": null,
            "overflow_x": null,
            "overflow_y": null,
            "padding": null,
            "right": null,
            "top": null,
            "visibility": null,
            "width": null
          }
        },
        "8255528874554d23b915966d4cc433fd": {
          "model_module": "@jupyter-widgets/controls",
          "model_module_version": "1.5.0",
          "model_name": "DescriptionStyleModel",
          "state": {
            "_model_module": "@jupyter-widgets/controls",
            "_model_module_version": "1.5.0",
            "_model_name": "DescriptionStyleModel",
            "_view_count": null,
            "_view_module": "@jupyter-widgets/base",
            "_view_module_version": "1.2.0",
            "_view_name": "StyleView",
            "description_width": ""
          }
        },
        "88f4b4449c9c49399a331addbd0ca7de": {
          "model_module": "@jupyter-widgets/controls",
          "model_module_version": "1.5.0",
          "model_name": "FloatProgressModel",
          "state": {
            "_dom_classes": [],
            "_model_module": "@jupyter-widgets/controls",
            "_model_module_version": "1.5.0",
            "_model_name": "FloatProgressModel",
            "_view_count": null,
            "_view_module": "@jupyter-widgets/controls",
            "_view_module_version": "1.5.0",
            "_view_name": "ProgressView",
            "bar_style": "success",
            "description": "",
            "description_tooltip": null,
            "layout": "IPY_MODEL_a2e13b7539e0454da609135324c55be3",
            "max": 500,
            "min": 0,
            "orientation": "horizontal",
            "style": "IPY_MODEL_dbea9f687bf74783819c9382013d7b82",
            "value": 500
          }
        },
        "987947f053b04132a95c70a3f1df0ee6": {
          "model_module": "@jupyter-widgets/base",
          "model_module_version": "1.2.0",
          "model_name": "LayoutModel",
          "state": {
            "_model_module": "@jupyter-widgets/base",
            "_model_module_version": "1.2.0",
            "_model_name": "LayoutModel",
            "_view_count": null,
            "_view_module": "@jupyter-widgets/base",
            "_view_module_version": "1.2.0",
            "_view_name": "LayoutView",
            "align_content": null,
            "align_items": null,
            "align_self": null,
            "border": null,
            "bottom": null,
            "display": null,
            "flex": null,
            "flex_flow": null,
            "grid_area": null,
            "grid_auto_columns": null,
            "grid_auto_flow": null,
            "grid_auto_rows": null,
            "grid_column": null,
            "grid_gap": null,
            "grid_row": null,
            "grid_template_areas": null,
            "grid_template_columns": null,
            "grid_template_rows": null,
            "height": null,
            "justify_content": null,
            "justify_items": null,
            "left": null,
            "margin": null,
            "max_height": null,
            "max_width": null,
            "min_height": null,
            "min_width": null,
            "object_fit": null,
            "object_position": null,
            "order": null,
            "overflow": null,
            "overflow_x": null,
            "overflow_y": null,
            "padding": null,
            "right": null,
            "top": null,
            "visibility": null,
            "width": null
          }
        },
        "a2e13b7539e0454da609135324c55be3": {
          "model_module": "@jupyter-widgets/base",
          "model_module_version": "1.2.0",
          "model_name": "LayoutModel",
          "state": {
            "_model_module": "@jupyter-widgets/base",
            "_model_module_version": "1.2.0",
            "_model_name": "LayoutModel",
            "_view_count": null,
            "_view_module": "@jupyter-widgets/base",
            "_view_module_version": "1.2.0",
            "_view_name": "LayoutView",
            "align_content": null,
            "align_items": null,
            "align_self": null,
            "border": null,
            "bottom": null,
            "display": null,
            "flex": null,
            "flex_flow": null,
            "grid_area": null,
            "grid_auto_columns": null,
            "grid_auto_flow": null,
            "grid_auto_rows": null,
            "grid_column": null,
            "grid_gap": null,
            "grid_row": null,
            "grid_template_areas": null,
            "grid_template_columns": null,
            "grid_template_rows": null,
            "height": null,
            "justify_content": null,
            "justify_items": null,
            "left": null,
            "margin": null,
            "max_height": null,
            "max_width": null,
            "min_height": null,
            "min_width": null,
            "object_fit": null,
            "object_position": null,
            "order": null,
            "overflow": null,
            "overflow_x": null,
            "overflow_y": null,
            "padding": null,
            "right": null,
            "top": null,
            "visibility": null,
            "width": null
          }
        },
        "dbea9f687bf74783819c9382013d7b82": {
          "model_module": "@jupyter-widgets/controls",
          "model_module_version": "1.5.0",
          "model_name": "ProgressStyleModel",
          "state": {
            "_model_module": "@jupyter-widgets/controls",
            "_model_module_version": "1.5.0",
            "_model_name": "ProgressStyleModel",
            "_view_count": null,
            "_view_module": "@jupyter-widgets/base",
            "_view_module_version": "1.2.0",
            "_view_name": "StyleView",
            "bar_color": null,
            "description_width": ""
          }
        }
      }
    }
  },
  "nbformat": 4,
  "nbformat_minor": 0
}

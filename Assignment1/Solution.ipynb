{
 "cells": [
  {
   "cell_type": "markdown",
   "metadata": {},
   "source": [
    "I have a problem. I thought that friday 12 am is a midnoon of friday.."
   ]
  },
  {
   "cell_type": "code",
   "execution_count": 1,
   "metadata": {},
   "outputs": [],
   "source": [
    "import itertools\n",
    "import numpy as np\n",
    "from typing import Dict, Tuple"
   ]
  },
  {
   "cell_type": "code",
   "execution_count": 2,
   "metadata": {},
   "outputs": [],
   "source": [
    "def read_map(filename):\n",
    "    map = []\n",
    "\n",
    "    with open(filename) as file:\n",
    "        text = file.read()\n",
    "    lines = text.splitlines()\n",
    "\n",
    "    for line in lines:\n",
    "        line = [int(cell) for cell in line.split()]\n",
    "        map.append(line)\n",
    "\n",
    "    return map"
   ]
  },
  {
   "cell_type": "code",
   "execution_count": 3,
   "metadata": {},
   "outputs": [],
   "source": [
    "class Cargo:\n",
    "\n",
    "    def __init__(self, map) -> None:\n",
    "        self.map = map\n",
    "        self.shape = self.get_cargo_shape()\n",
    "\n",
    "    \n",
    "    def get_right_lower_corner(self, cargo):\n",
    "        lower = 0\n",
    "        right = 0\n",
    "\n",
    "        for row, col in cargo:\n",
    "            lower = max(lower, row)\n",
    "            right = max(right, col)\n",
    "        \n",
    "        return lower, right\n",
    "\n",
    "\n",
    "    def get_cargo_shape(self):\n",
    "        '''Returns list of tupples with shift of cargo's cells\n",
    "        with respect to right lower corner (if it even does not exist).\n",
    "        '''\n",
    "        cargo = []\n",
    "\n",
    "        for row in range(len(self.map)):\n",
    "            for col in range(len(self.map[0])):\n",
    "                if self.map[row][col] == 2:\n",
    "                    cargo.append((row, col))\n",
    "\n",
    "        self.corner_row, self.corner_col = self.get_right_lower_corner(cargo)\n",
    "\n",
    "        for part_idx in range(len(cargo)):\n",
    "            row, col = cargo[part_idx]\n",
    "            cargo[part_idx] = (row - self.corner_row, col - self.corner_col)\n",
    "        \n",
    "        return cargo\n",
    "\n",
    "    \n",
    "    def get_cargo_coordinates(self, corner_row, corner_col):\n",
    "        cargo_coordinates = []\n",
    "\n",
    "        for row_shift, col_shift in self.shape:\n",
    "            cargo_coordinates.append((corner_row + row_shift, corner_col + col_shift))\n",
    "\n",
    "        return cargo_coordinates\n",
    "\n",
    "    \n",
    "    def is_valid_position(self, corner_row, corner_col):\n",
    "\n",
    "        cargo_coordinates = self.get_cargo_coordinates(corner_row, corner_col)\n",
    "\n",
    "        def is_valid_cell(row, col):\n",
    "            n_rows = len(self.map)\n",
    "            n_cols = len(self.map[0])\n",
    "\n",
    "            if row < 0:\n",
    "                return False\n",
    "            if row >= n_rows:\n",
    "                return False\n",
    "            if col < 0:\n",
    "                return False\n",
    "            if col >= n_cols:\n",
    "                return False\n",
    "\n",
    "            if self.map[row][col] == 1:\n",
    "                return False\n",
    "\n",
    "            return True\n",
    "\n",
    "        check = [is_valid_cell(row, col) for row, col in cargo_coordinates]\n",
    "        is_valid = all(check)\n",
    "\n",
    "        return is_valid"
   ]
  },
  {
   "cell_type": "code",
   "execution_count": 4,
   "metadata": {},
   "outputs": [],
   "source": [
    "class GridWorld:\n",
    "\n",
    "    class Cell:\n",
    "\n",
    "        def __init__(self, row, col, world, default_reward=-1):\n",
    "\n",
    "            self.row = row\n",
    "            self.col = col\n",
    "            self.env = world\n",
    "            self.default_reward = default_reward\n",
    "\n",
    "            self.actions_to = []\n",
    "\n",
    "        def compute_value(self, gamma=0.9):\n",
    "            if len(self.actions_to) == 0:\n",
    "                return self.env.value_function[str(self)]\n",
    "            qs = []\n",
    "            for place in self.actions_to:\n",
    "                action_reward = self.env.rewards.get((str(self), place), self.default_reward)\n",
    "                next_v = gamma * self.env.value_function[place]\n",
    "                qs.append(action_reward + next_v)\n",
    "            return max(qs)\n",
    "\n",
    "        def __str__(self):\n",
    "            return f\"{self.row}_{self.col}\"\n",
    "\n",
    "        def __repr__(self):\n",
    "            return str(self)\n",
    "\n",
    "\n",
    "    def __init__(self,\n",
    "                 map: list,\n",
    "                 rewards: Dict[Tuple[str, str], float] = {}, \n",
    "                 gamma: float = 0.9,\n",
    "                 default_reward: float = -1):\n",
    "                 \n",
    "        self.map = map\n",
    "        self.n_rows = len(map)\n",
    "        self.n_cols = len(map[0])\n",
    "        \n",
    "        coords = itertools.product(range(self.n_rows), range(self.n_cols))\n",
    "        \n",
    "        self.state_list = [self.Cell(row, col, self, default_reward) for row, col in coords]\n",
    "        self.state_dict = {str(cell): cell for cell in self.state_list}\n",
    "        self.value_function = {str(cell): 0 for cell in self.state_list}\n",
    "        self.rewards = rewards\n",
    "        self.gamma = gamma\n",
    "\n",
    "\n",
    "    def update_values(self):\n",
    "        new_value_function = self.value_function.copy()\n",
    "        \n",
    "        for cell in self.state_list:\n",
    "            new_value_function[str(cell)] = cell.compute_value(self.gamma)\n",
    "        \n",
    "        self.value_function = new_value_function\n",
    "\n",
    "\n",
    "    def visualize(self):\n",
    "        array = np.zeros((self.n_rows, self.n_cols))\n",
    "        for col in range(self.n_cols):\n",
    "            for row in range(self.n_rows):\n",
    "                array[row, col] = self.value_function[f'{row}_{col}']\n",
    "\n",
    "        print(array)\n",
    "\n",
    "    def get_state_value(self):\n",
    "        array = np.zeros((self.n_rows, self.n_cols))\n",
    "        for col in range(self.n_cols):\n",
    "            for row in range(self.n_rows):\n",
    "                array[row, col] = self.value_function[f'{row}_{col}']\n",
    "\n",
    "        return array"
   ]
  },
  {
   "cell_type": "code",
   "execution_count": 5,
   "metadata": {},
   "outputs": [],
   "source": [
    "def get_state_value_of_map(map):\n",
    "    cargo = Cargo(map)\n",
    "    world = GridWorld(map)\n",
    "\n",
    "    for row in range(world.n_rows):\n",
    "        for col in range(world.n_cols):\n",
    "\n",
    "            if cargo.is_valid_position(row, col) == False:\n",
    "                world.value_function[f'{row}_{col}'] = -np.inf\n",
    "                continue\n",
    "\n",
    "            moves = [(1, 0), (-1, 0), (0, -1), (0, 1)]\n",
    "\n",
    "            for row_shift, col_shift in moves:\n",
    "                new_row = row + row_shift\n",
    "                new_col = col + col_shift\n",
    "\n",
    "                if cargo.is_valid_position(new_row, new_col):\n",
    "                    world.state_dict[f'{row}_{col}'].actions_to.append(f'{new_row}_{new_col}')\n",
    "\n",
    "    world.state_dict[f'{world.n_rows - 1}_{world.n_cols - 1}'].actions_to = []\n",
    "\n",
    "    for _ in range(100):\n",
    "        world.update_values()\n",
    "    \n",
    "    return world.get_state_value()"
   ]
  },
  {
   "cell_type": "code",
   "execution_count": 6,
   "metadata": {},
   "outputs": [],
   "source": [
    "class StateValueMap:\n",
    "\n",
    "    def __init__(self, state_value_map):\n",
    "        self.map = state_value_map\n",
    "        self.n_rows = len(state_value_map)\n",
    "        self.n_cols = len(state_value_map[0])\n",
    "\n",
    "    def is_valid_position(self, row, col):\n",
    "        if row < 0:\n",
    "            return False\n",
    "        if row >= self.n_rows:\n",
    "            return False\n",
    "        if col < 0:\n",
    "            return False\n",
    "        if col >= self.n_cols:\n",
    "            return False\n",
    "\n",
    "        if self.map[row][col] == -np.inf:\n",
    "            return False\n",
    "\n",
    "        return True\n",
    "\n",
    "    def get_possible_moves(self, row, col):\n",
    "        positions = []\n",
    "\n",
    "        moves = [(1, 0), (-1, 0), (0, -1), (0, 1)]\n",
    "\n",
    "        for row_shift, col_shift in moves:\n",
    "            new_row = row + row_shift\n",
    "            new_col = col + col_shift\n",
    "\n",
    "            if self.is_valid_position(new_row, new_col):\n",
    "                positions.append((new_row, new_col))\n",
    "\n",
    "        return positions\n",
    "\n",
    "    def get_best_moves(self, row, col):\n",
    "        positions = self.get_possible_moves(row, col)\n",
    "        maximum = -np.inf\n",
    "\n",
    "        for row, col in positions:\n",
    "            maximum = max(maximum, self.map[row][col])\n",
    "\n",
    "        moves = []\n",
    "        for row, col in positions:\n",
    "            if self.map[row][col] == maximum:\n",
    "                moves.append((row, col))\n",
    "\n",
    "        return moves"
   ]
  },
  {
   "cell_type": "code",
   "execution_count": 7,
   "metadata": {},
   "outputs": [
    {
     "data": {
      "text/plain": [
       "[[2, 2, 1, 0, 1, 0],\n",
       " [0, 2, 0, 0, 0, 0],\n",
       " [0, 2, 0, 0, 0, 0],\n",
       " [0, 0, 0, 0, 0, 0],\n",
       " [0, 0, 0, 0, 1, 0],\n",
       " [0, 0, 1, 0, 0, 0]]"
      ]
     },
     "execution_count": 7,
     "metadata": {},
     "output_type": "execute_result"
    }
   ],
   "source": [
    "map = read_map('./inputs/input4.txt')\n",
    "map"
   ]
  },
  {
   "cell_type": "code",
   "execution_count": 8,
   "metadata": {},
   "outputs": [
    {
     "name": "stdout",
     "output_type": "stream",
     "text": [
      "[[      -inf       -inf       -inf       -inf       -inf       -inf]\n",
      " [      -inf       -inf       -inf       -inf       -inf       -inf]\n",
      " [      -inf -5.217031        -inf       -inf       -inf       -inf]\n",
      " [      -inf -4.68559   -4.0951    -3.439     -2.71      -1.9      ]\n",
      " [      -inf -5.217031  -4.68559   -4.0951          -inf -1.       ]\n",
      " [      -inf -5.6953279       -inf -4.68559         -inf  0.       ]]\n"
     ]
    }
   ],
   "source": [
    "print(get_state_value_of_map(map))"
   ]
  },
  {
   "cell_type": "code",
   "execution_count": 9,
   "metadata": {},
   "outputs": [
    {
     "data": {
      "text/plain": [
       "[[None, None, None, None, None, None],\n",
       " [None, None, None, None, None, None],\n",
       " [None, (2, 1), None, None, None, None],\n",
       " [None, (2, 1), (3, 1), (3, 2), (3, 3), (3, 4)],\n",
       " [None, None, None, None, None, (3, 5)],\n",
       " [None, None, None, None, None, (4, 5)]]"
      ]
     },
     "execution_count": 9,
     "metadata": {},
     "output_type": "execute_result"
    }
   ],
   "source": [
    "def get_path_array(map):\n",
    "\n",
    "    state_map = StateValueMap(get_state_value_of_map(map))\n",
    "    cargo = Cargo(map)\n",
    "\n",
    "    came_from = [len(map[0]) * [None] for _ in range(len(map))]\n",
    "\n",
    "    queue = [(cargo.corner_row, cargo.corner_col)]\n",
    "\n",
    "    while len(queue) != 0:\n",
    "        cell = queue.pop(0)\n",
    "        row, col = cell\n",
    "\n",
    "        moves = state_map.get_best_moves(row, col)\n",
    "\n",
    "        for move in moves: \n",
    "            row, col = move\n",
    "            if came_from[row][col] == None:\n",
    "                came_from[row][col] = cell\n",
    "                queue.append(move)\n",
    "\n",
    "    came_from[cargo.corner_row][cargo.corner_col] = cargo.corner_row, cargo.corner_col\n",
    "\n",
    "    return came_from\n",
    "\n",
    "\n",
    "get_path_array(map)"
   ]
  },
  {
   "cell_type": "code",
   "execution_count": 10,
   "metadata": {},
   "outputs": [
    {
     "data": {
      "text/plain": [
       "[(2, 1), (3, 1), (3, 2), (3, 3), (3, 4), (3, 5), (4, 5), (5, 5)]"
      ]
     },
     "execution_count": 10,
     "metadata": {},
     "output_type": "execute_result"
    }
   ],
   "source": [
    "def get_path(map):\n",
    "    came_from = get_path_array(map)\n",
    "\n",
    "    if came_from[-1][-1] == None:\n",
    "        return []\n",
    "\n",
    "    path = [came_from[-1][-1]]\n",
    "    \n",
    "    row, col = came_from[-1][-1]\n",
    "\n",
    "    while came_from[row][col] != (row, col):\n",
    "        row, col = came_from[row][col]\n",
    "        path.append((row, col))\n",
    "\n",
    "    path.reverse()\n",
    "    path.append((len(map) - 1, len(map[0]) - 1))\n",
    "\n",
    "    return path\n",
    "    \n",
    "\n",
    "get_path(map)"
   ]
  },
  {
   "cell_type": "code",
   "execution_count": 11,
   "metadata": {},
   "outputs": [
    {
     "data": {
      "text/plain": [
       "'D R R R R D D '"
      ]
     },
     "execution_count": 11,
     "metadata": {},
     "output_type": "execute_result"
    }
   ],
   "source": [
    "def get_steps(map):\n",
    "    path = get_path(map)\n",
    "\n",
    "    if len(path) == 0:\n",
    "        return 'No path'\n",
    "\n",
    "    steps = ''\n",
    "\n",
    "    for i in range(len(path) - 1):\n",
    "        row_from, col_from = path[i]\n",
    "        row_to, col_to = path[i + 1]\n",
    "\n",
    "        if (row_to - row_from) == -1:\n",
    "            steps += 'U '\n",
    "\n",
    "        elif (row_to - row_from) == 1:\n",
    "            steps += 'D '\n",
    "\n",
    "        elif (col_to - col_from) == -1:\n",
    "            steps += 'L '\n",
    "        \n",
    "        elif (col_to - col_from) == 1:\n",
    "            steps += 'R '\n",
    "\n",
    "    return steps\n",
    "\n",
    "\n",
    "get_steps(map)"
   ]
  },
  {
   "cell_type": "code",
   "execution_count": 12,
   "metadata": {},
   "outputs": [
    {
     "data": {
      "text/plain": [
       "'D R R R R D D '"
      ]
     },
     "execution_count": 12,
     "metadata": {},
     "output_type": "execute_result"
    }
   ],
   "source": [
    "map = read_map('./inputs/input4.txt')\n",
    "get_steps(map)"
   ]
  },
  {
   "cell_type": "code",
   "execution_count": 13,
   "metadata": {},
   "outputs": [],
   "source": [
    "def find_path(path_to_infile, path_to_out_file):\n",
    "    map = read_map(path_to_infile)\n",
    "    path = get_steps(map)\n",
    "\n",
    "    with open(path_to_out_file, 'w') as file:\n",
    "        file.write(path)"
   ]
  }
 ],
 "metadata": {
  "kernelspec": {
   "display_name": "Python 3.8.8 ('base')",
   "language": "python",
   "name": "python3"
  },
  "language_info": {
   "codemirror_mode": {
    "name": "ipython",
    "version": 3
   },
   "file_extension": ".py",
   "mimetype": "text/x-python",
   "name": "python",
   "nbconvert_exporter": "python",
   "pygments_lexer": "ipython3",
   "version": "3.8.8"
  },
  "orig_nbformat": 4,
  "vscode": {
   "interpreter": {
    "hash": "82ca00de6dfeb9e2eef59d83b518ae9b61e5781747466ffa06053c845d8d3ce9"
   }
  }
 },
 "nbformat": 4,
 "nbformat_minor": 2
}

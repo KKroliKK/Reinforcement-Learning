{
  "cells": [
    {
      "cell_type": "markdown",
      "metadata": {
        "id": "nFGyp1PBW8Do"
      },
      "source": [
        "<h1> Assignment #1 </h1>\n",
        "\n",
        "You are an engineer in the logistic company. You have a robot which is capable of cargo transportation. Now you use it to carry the equipment over the cluttered warehouse. \n",
        "\n",
        "Your task is to train bot to find the shortest path to the required location (lower right corner) so that it does not crash into obstacles.  \n",
        "\n",
        "---\n",
        "\n",
        "Submit `{name}_{surname}.py` script with `find_path(path_to_infile, path_to_outfile)` function.\n",
        "\n",
        "**You have to solve it using MDP.**"
      ]
    },
    {
      "cell_type": "markdown",
      "metadata": {
        "id": "-nG7PJaYZ9ed"
      },
      "source": [
        "### Input:"
      ]
    },
    {
      "cell_type": "markdown",
      "metadata": {
        "id": "HZjD0owIaAs9"
      },
      "source": [
        "`{infile}.txt` file with the field description. Elements of the field are separated by space. For example: \n",
        "```\n",
        "2 1 0 1 0\n",
        "0 1 0 1 0\n",
        "0 0 0 0 0\n",
        "0 1 0 1 0\n",
        "0 1 0 1 0\n",
        "```\n",
        "\n",
        "* `0` - blank space, we may move objects here\n",
        "* `1` - obstackles, object can not be over that position\n",
        "* `2` - actual object shape, does not change, moved as a solid object\n",
        "\n",
        "As our goal is to move object to the most lower-right position, sequence of our steps will be the following:  \n",
        "`D D R R R R D D`\n",
        "\n",
        "Meaning:  \n",
        "`D` - (move) Down;  \n",
        "`U` - (move) Up;  \n",
        "`R` - (move) Right;  \n",
        "`L` - (move) Left."
      ]
    },
    {
      "cell_type": "markdown",
      "metadata": {
        "id": "vQ55YYBLaCQU"
      },
      "source": [
        "### Output:"
      ]
    },
    {
      "cell_type": "markdown",
      "metadata": {
        "id": "htqOxDIrpjfH"
      },
      "source": [
        "Sequence that leads to the right lower corner in the least number of steps. Written in `{outfile}.txt`. If there is no path, write `No path` in the file."
      ]
    },
    {
      "cell_type": "markdown",
      "metadata": {
        "id": "Hi-8-_4EqTOl"
      },
      "source": [
        "### Examples"
      ]
    },
    {
      "cell_type": "markdown",
      "metadata": {
        "id": "hcz2_1yvqZUZ"
      },
      "source": [
        "#### First case"
      ]
    },
    {
      "cell_type": "markdown",
      "metadata": {
        "id": "v3oWKEKiaFs7"
      },
      "source": [
        "`input.txt`:\n",
        "\n",
        "```\n",
        "0 1 0 1 0\n",
        "0 1 0 1 0\n",
        "0 0 0 0 0\n",
        "0 0 0 0 0\n",
        "0 1 2 1 0\n",
        "0 1 2 0 0\n",
        "```\n",
        "\n",
        "`out.txt`:\n",
        "\n",
        "```\n",
        "U U R R D D\n",
        "```"
      ]
    },
    {
      "cell_type": "markdown",
      "metadata": {
        "id": "KeblJzcErAL4"
      },
      "source": [
        "#### Second case"
      ]
    },
    {
      "cell_type": "markdown",
      "metadata": {
        "id": "AOebx5t3rCsb"
      },
      "source": [
        "`input.txt`:\n",
        "\n",
        "```\n",
        "2 2 1 0 1 0\n",
        "0 2 1 0 1 0\n",
        "0 2 0 0 0 0\n",
        "0 0 0 0 0 0\n",
        "0 0 1 0 1 0\n",
        "0 0 1 0 0 0\n",
        "```\n",
        "\n",
        "`out.txt`:\n",
        "\n",
        "```\n",
        "No path\n",
        "```"
      ]
    },
    {
      "cell_type": "markdown",
      "metadata": {
        "id": "dGikYoXAr-vp"
      },
      "source": [
        "#### Third case"
      ]
    },
    {
      "cell_type": "markdown",
      "metadata": {
        "id": "ojyUd-ldsA88"
      },
      "source": [
        "`input.txt`:\n",
        "\n",
        "```\n",
        "2 2 1 0 1 0\n",
        "0 2 1 0 1 0\n",
        "0 0 0 0 0 0\n",
        "0 0 0 0 0 0\n",
        "0 0 1 0 1 0\n",
        "0 0 1 0 0 0\n",
        "```\n",
        "\n",
        "`out.txt`:\n",
        "\n",
        "```\n",
        "No path\n",
        "```"
      ]
    },
    {
      "cell_type": "markdown",
      "metadata": {
        "id": "sAlR-HWSsG-U"
      },
      "source": [
        "#### Fourth case"
      ]
    },
    {
      "cell_type": "markdown",
      "metadata": {
        "id": "dk1Wq0LusI9c"
      },
      "source": [
        "`input.txt`:\n",
        "\n",
        "```\n",
        "2 2 1 0 1 0\n",
        "0 2 0 0 0 0\n",
        "0 2 0 0 0 0\n",
        "0 0 0 0 0 0\n",
        "0 0 0 0 1 0\n",
        "0 0 1 0 0 0\n",
        "```\n",
        "\n",
        "`out.txt`:\n",
        "\n",
        "```\n",
        "D D R R U R R D D\n",
        "```"
      ]
    },
    {
      "cell_type": "code",
      "execution_count": null,
      "metadata": {
        "id": "7uKb_oFe1QND"
      },
      "outputs": [],
      "source": []
    }
  ],
  "metadata": {
    "colab": {
      "collapsed_sections": [],
      "provenance": []
    },
    "kernelspec": {
      "display_name": "Python 3.8.8 ('base')",
      "language": "python",
      "name": "python3"
    },
    "language_info": {
      "name": "python",
      "version": "3.8.8"
    },
    "vscode": {
      "interpreter": {
        "hash": "82ca00de6dfeb9e2eef59d83b518ae9b61e5781747466ffa06053c845d8d3ce9"
      }
    }
  },
  "nbformat": 4,
  "nbformat_minor": 0
}
